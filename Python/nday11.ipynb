{
 "cells": [
  {
   "cell_type": "code",
   "execution_count": 6,
   "metadata": {},
   "outputs": [],
   "source": [
    "# Quiz 1\n",
    "\"\"\" \n",
    "DNA sequence의 purine 과 pyrimidine의 비율을 각각 구하는 함수를 써라\n",
    "input : DNA sequence\n",
    "output : 딕셔너리(key = purine, pyrimidine / value = 비율)\n",
    "(단, DNA sequence의 유효성을 체크하고 유효하지 않다면 예외를 발생 시켜라)\n",
    "\"\"\"\n",
    "def chargaff(seq):\n",
    "    oring_seq = seq.upper()\n",
    "    if len(oring_seq) == sum([oring_seq.count(nt) for nt in \"ATCG\"]):\n",
    "        purine = sum([oring_seq.count(nt) for nt in \"AG\"]) / len(oring_seq)\n",
    "        pyrimidine = sum([oring_seq.count(nt) for nt in \"TC\"]) / len(oring_seq)\n",
    "        return {\"purine\":purine, \"pyrimidine\":pyrimidine}\n",
    "    else:\n",
    "        # return ValueError(\"DNA sequence가 유효하지 않습니다.\")\n",
    "        raise Exception(\"your sequence is not valid\")"
   ]
  },
  {
   "cell_type": "code",
   "execution_count": 7,
   "metadata": {},
   "outputs": [
    {
     "data": {
      "text/plain": [
       "{'purine': 0.6, 'pyrimidine': 0.4}"
      ]
     },
     "execution_count": 7,
     "metadata": {},
     "output_type": "execute_result"
    }
   ],
   "source": [
    "chargaff(\"ATAACGCCGa\")"
   ]
  },
  {
   "cell_type": "code",
   "execution_count": 8,
   "metadata": {},
   "outputs": [
    {
     "ename": "Exception",
     "evalue": "your sequence is not valid",
     "output_type": "error",
     "traceback": [
      "\u001b[0;31m---------------------------------------------------------------------------\u001b[0m",
      "\u001b[0;31mException\u001b[0m                                 Traceback (most recent call last)",
      "Cell \u001b[0;32mIn[8], line 1\u001b[0m\n\u001b[0;32m----> 1\u001b[0m \u001b[43mchargaff\u001b[49m\u001b[43m(\u001b[49m\u001b[38;5;124;43m\"\u001b[39;49m\u001b[38;5;124;43mATAACGFCGa\u001b[39;49m\u001b[38;5;124;43m\"\u001b[39;49m\u001b[43m)\u001b[49m\n",
      "Cell \u001b[0;32mIn[6], line 16\u001b[0m, in \u001b[0;36mchargaff\u001b[0;34m(seq)\u001b[0m\n\u001b[1;32m     13\u001b[0m     \u001b[38;5;28;01mreturn\u001b[39;00m {\u001b[38;5;124m\"\u001b[39m\u001b[38;5;124mpurine\u001b[39m\u001b[38;5;124m\"\u001b[39m:purine, \u001b[38;5;124m\"\u001b[39m\u001b[38;5;124mpyrimidine\u001b[39m\u001b[38;5;124m\"\u001b[39m:pyrimidine}\n\u001b[1;32m     14\u001b[0m \u001b[38;5;28;01melse\u001b[39;00m:\n\u001b[1;32m     15\u001b[0m     \u001b[38;5;66;03m# return ValueError(\"DNA sequence가 유효하지 않습니다.\")\u001b[39;00m\n\u001b[0;32m---> 16\u001b[0m     \u001b[38;5;28;01mraise\u001b[39;00m \u001b[38;5;167;01mException\u001b[39;00m(\u001b[38;5;124m\"\u001b[39m\u001b[38;5;124myour sequence is not valid\u001b[39m\u001b[38;5;124m\"\u001b[39m)\n",
      "\u001b[0;31mException\u001b[0m: your sequence is not valid"
     ]
    }
   ],
   "source": [
    "chargaff(\"ATAACGFCGa\")"
   ]
  },
  {
   "cell_type": "code",
   "execution_count": 9,
   "metadata": {},
   "outputs": [],
   "source": [
    "def valid_dna(seq):\n",
    "    dna_seq = seq.upper()\n",
    "    return len(seq) == sum([dna_seq.count(nt) for nt in \"ATCG\"])"
   ]
  },
  {
   "cell_type": "code",
   "execution_count": 10,
   "metadata": {},
   "outputs": [
    {
     "data": {
      "text/plain": [
       "True"
      ]
     },
     "execution_count": 10,
     "metadata": {},
     "output_type": "execute_result"
    }
   ],
   "source": [
    "valid_dna(\"ATTCGGAC\")"
   ]
  },
  {
   "cell_type": "code",
   "execution_count": 11,
   "metadata": {},
   "outputs": [
    {
     "data": {
      "text/plain": [
       "False"
      ]
     },
     "execution_count": 11,
     "metadata": {},
     "output_type": "execute_result"
    }
   ],
   "source": [
    "valid_dna(\"ATTCGRGAC\")"
   ]
  },
  {
   "cell_type": "code",
   "execution_count": 15,
   "metadata": {},
   "outputs": [],
   "source": [
    "def chargaff2(seq):\n",
    "    if not valid_dna(seq):\n",
    "        raise Exception(\"Your sequence is not valid\")\n",
    "    oring_seq = seq.upper()\n",
    "    purine = sum([oring_seq.count(nt) for nt in \"AG\"]) / len(oring_seq)\n",
    "    pyrimidine = sum([oring_seq.count(nt) for nt in \"TC\"]) / len(oring_seq)\n",
    "    return {\"purine\":purine, \"pyrimidine\":pyrimidine}"
   ]
  },
  {
   "cell_type": "code",
   "execution_count": 16,
   "metadata": {},
   "outputs": [
    {
     "name": "stdout",
     "output_type": "stream",
     "text": [
      "not True\n"
     ]
    }
   ],
   "source": [
    "if not False:\n",
    "    print(\"not True\")\n",
    "else:\n",
    "    print(\"WTF\")"
   ]
  },
  {
   "cell_type": "code",
   "execution_count": 17,
   "metadata": {},
   "outputs": [
    {
     "data": {
      "text/plain": [
       "{'purine': 0.6363636363636364, 'pyrimidine': 0.36363636363636365}"
      ]
     },
     "execution_count": 17,
     "metadata": {},
     "output_type": "execute_result"
    }
   ],
   "source": [
    "chargaff2(\"ATAATCGCGGG\")"
   ]
  },
  {
   "cell_type": "code",
   "execution_count": 18,
   "metadata": {},
   "outputs": [
    {
     "ename": "Exception",
     "evalue": "Your sequence is not valid",
     "output_type": "error",
     "traceback": [
      "\u001b[0;31m---------------------------------------------------------------------------\u001b[0m",
      "\u001b[0;31mException\u001b[0m                                 Traceback (most recent call last)",
      "Cell \u001b[0;32mIn[18], line 1\u001b[0m\n\u001b[0;32m----> 1\u001b[0m \u001b[43mchargaff2\u001b[49m\u001b[43m(\u001b[49m\u001b[38;5;124;43m\"\u001b[39;49m\u001b[38;5;124;43mATAAXTCXGG\u001b[39;49m\u001b[38;5;124;43m\"\u001b[39;49m\u001b[43m)\u001b[49m\n",
      "Cell \u001b[0;32mIn[15], line 3\u001b[0m, in \u001b[0;36mchargaff2\u001b[0;34m(seq)\u001b[0m\n\u001b[1;32m      1\u001b[0m \u001b[38;5;28;01mdef\u001b[39;00m \u001b[38;5;21mchargaff2\u001b[39m(seq):\n\u001b[1;32m      2\u001b[0m     \u001b[38;5;28;01mif\u001b[39;00m \u001b[38;5;129;01mnot\u001b[39;00m valid_dna(seq):\n\u001b[0;32m----> 3\u001b[0m         \u001b[38;5;28;01mraise\u001b[39;00m \u001b[38;5;167;01mException\u001b[39;00m(\u001b[38;5;124m\"\u001b[39m\u001b[38;5;124mYour sequence is not valid\u001b[39m\u001b[38;5;124m\"\u001b[39m)\n\u001b[1;32m      4\u001b[0m     oring_seq \u001b[38;5;241m=\u001b[39m seq\u001b[38;5;241m.\u001b[39mupper()\n\u001b[1;32m      5\u001b[0m     purine \u001b[38;5;241m=\u001b[39m \u001b[38;5;28msum\u001b[39m([oring_seq\u001b[38;5;241m.\u001b[39mcount(nt) \u001b[38;5;28;01mfor\u001b[39;00m nt \u001b[38;5;129;01min\u001b[39;00m \u001b[38;5;124m\"\u001b[39m\u001b[38;5;124mAG\u001b[39m\u001b[38;5;124m\"\u001b[39m]) \u001b[38;5;241m/\u001b[39m \u001b[38;5;28mlen\u001b[39m(oring_seq)\n",
      "\u001b[0;31mException\u001b[0m: Your sequence is not valid"
     ]
    }
   ],
   "source": [
    "chargaff2(\"ATAAXTCXGG\")"
   ]
  },
  {
   "cell_type": "code",
   "execution_count": 19,
   "metadata": {},
   "outputs": [
    {
     "ename": "AssertionError",
     "evalue": "AssertionError will be raised",
     "output_type": "error",
     "traceback": [
      "\u001b[0;31m---------------------------------------------------------------------------\u001b[0m",
      "\u001b[0;31mAssertionError\u001b[0m                            Traceback (most recent call last)",
      "Cell \u001b[0;32mIn[19], line 4\u001b[0m\n\u001b[1;32m      1\u001b[0m \u001b[38;5;66;03m# Assert\u001b[39;00m\n\u001b[1;32m      2\u001b[0m \u001b[38;5;66;03m### you can assert to raise an AssertionError if the condition is not true.\u001b[39;00m\n\u001b[1;32m      3\u001b[0m \u001b[38;5;28;01massert\u001b[39;00m \u001b[38;5;241m1\u001b[39m \u001b[38;5;241m+\u001b[39m \u001b[38;5;241m1\u001b[39m \u001b[38;5;241m==\u001b[39m \u001b[38;5;241m2\u001b[39m, \u001b[38;5;124m'\u001b[39m\u001b[38;5;124mAssertionError will be raised\u001b[39m\u001b[38;5;124m'\u001b[39m\n\u001b[0;32m----> 4\u001b[0m \u001b[38;5;28;01massert\u001b[39;00m \u001b[38;5;241m1\u001b[39m \u001b[38;5;241m+\u001b[39m \u001b[38;5;241m1\u001b[39m \u001b[38;5;241m==\u001b[39m \u001b[38;5;241m3\u001b[39m, \u001b[38;5;124m'\u001b[39m\u001b[38;5;124mAssertionError will be raised\u001b[39m\u001b[38;5;124m'\u001b[39m\n",
      "\u001b[0;31mAssertionError\u001b[0m: AssertionError will be raised"
     ]
    }
   ],
   "source": [
    "# Assert\n",
    "### you can assert to raise an AssertionError if the condition is not true.\n",
    "assert 1 + 1 == 2, 'AssertionError will be raised'\n",
    "assert 1 + 1 == 3, 'AssertionError will be raised'"
   ]
  },
  {
   "cell_type": "code",
   "execution_count": 20,
   "metadata": {},
   "outputs": [],
   "source": [
    "def chargaff3(seq):\n",
    "    assert valid_dna(seq), 'Your sequence is not valid'\n",
    "    oring_seq = seq.upper()\n",
    "    purine = sum([oring_seq.count(nt) for nt in \"AG\"]) / len(oring_seq)\n",
    "    pyrimidine = sum([oring_seq.count(nt) for nt in \"TC\"]) / len(oring_seq)\n",
    "    return {\"purine\":purine, \"pyrimidine\":pyrimidine}"
   ]
  },
  {
   "cell_type": "code",
   "execution_count": 21,
   "metadata": {},
   "outputs": [
    {
     "ename": "AssertionError",
     "evalue": "Your sequence is not valid",
     "output_type": "error",
     "traceback": [
      "\u001b[0;31m---------------------------------------------------------------------------\u001b[0m",
      "\u001b[0;31mAssertionError\u001b[0m                            Traceback (most recent call last)",
      "Cell \u001b[0;32mIn[21], line 1\u001b[0m\n\u001b[0;32m----> 1\u001b[0m \u001b[43mchargaff3\u001b[49m\u001b[43m(\u001b[49m\u001b[38;5;124;43m\"\u001b[39;49m\u001b[38;5;124;43mAAGGTCX\u001b[39;49m\u001b[38;5;124;43m\"\u001b[39;49m\u001b[43m)\u001b[49m\n",
      "Cell \u001b[0;32mIn[20], line 2\u001b[0m, in \u001b[0;36mchargaff3\u001b[0;34m(seq)\u001b[0m\n\u001b[1;32m      1\u001b[0m \u001b[38;5;28;01mdef\u001b[39;00m \u001b[38;5;21mchargaff3\u001b[39m(seq):\n\u001b[0;32m----> 2\u001b[0m     \u001b[38;5;28;01massert\u001b[39;00m valid_dna(seq), \u001b[38;5;124m'\u001b[39m\u001b[38;5;124mYour sequence is not valid\u001b[39m\u001b[38;5;124m'\u001b[39m\n\u001b[1;32m      3\u001b[0m     oring_seq \u001b[38;5;241m=\u001b[39m seq\u001b[38;5;241m.\u001b[39mupper()\n\u001b[1;32m      4\u001b[0m     purine \u001b[38;5;241m=\u001b[39m \u001b[38;5;28msum\u001b[39m([oring_seq\u001b[38;5;241m.\u001b[39mcount(nt) \u001b[38;5;28;01mfor\u001b[39;00m nt \u001b[38;5;129;01min\u001b[39;00m \u001b[38;5;124m\"\u001b[39m\u001b[38;5;124mAG\u001b[39m\u001b[38;5;124m\"\u001b[39m]) \u001b[38;5;241m/\u001b[39m \u001b[38;5;28mlen\u001b[39m(oring_seq)\n",
      "\u001b[0;31mAssertionError\u001b[0m: Your sequence is not valid"
     ]
    }
   ],
   "source": [
    "chargaff3(\"AAGGTCX\")"
   ]
  },
  {
   "cell_type": "code",
   "execution_count": 23,
   "metadata": {},
   "outputs": [],
   "source": [
    "# DNA to mRNA - transcription\n",
    "# Quiz \n",
    "def transcription(seq):\n",
    "    assert valid_dna(seq), \"Your sequence is not valid\"\n",
    "    dna_seq = seq.upper()\n",
    "    return \"\".join([nt if nt != \"T\" else \"U\" for nt in dna_seq])\n"
   ]
  },
  {
   "cell_type": "code",
   "execution_count": 24,
   "metadata": {},
   "outputs": [
    {
     "data": {
      "text/plain": [
       "'AUCUUAGCGG'"
      ]
     },
     "execution_count": 24,
     "metadata": {},
     "output_type": "execute_result"
    }
   ],
   "source": [
    "transcription(\"ATCTTAGCGG\")"
   ]
  },
  {
   "cell_type": "code",
   "execution_count": 27,
   "metadata": {},
   "outputs": [],
   "source": [
    "def transcription_ans(seq):\n",
    "    assert valid_dna(seq), \"Your sequence is not valid\"\n",
    "    dna_seq = seq.upper()\n",
    "    return dna_seq.replace('T','U')    "
   ]
  },
  {
   "cell_type": "code",
   "execution_count": 31,
   "metadata": {},
   "outputs": [
    {
     "name": "stdout",
     "output_type": "stream",
     "text": [
      "Code1 실행 시간: 0.00245초\n",
      "Code2 실행 시간: 0.00149초\n"
     ]
    }
   ],
   "source": [
    "import timeit\n",
    "\n",
    "seq = \"ATCCACCGACTT\"\n",
    "time1 = timeit.timeit(\"transcription(seq)\", globals=globals(), number=1000)\n",
    "time2 = timeit.timeit(\"transcription_ans(seq)\",globals=globals(), number=1000)\n",
    "\n",
    "print(f\"Code1 실행 시간: {time1:.5f}초\")\n",
    "print(f\"Code2 실행 시간: {time2:.5f}초\")"
   ]
  },
  {
   "cell_type": "code",
   "execution_count": 35,
   "metadata": {},
   "outputs": [
    {
     "name": "stdout",
     "output_type": "stream",
     "text": [
      "Code1 메모리 사용량: 81.859375 MiB\n",
      "Code2 메모리 사용량: 81.859375 MiB\n"
     ]
    }
   ],
   "source": [
    "from memory_profiler import memory_usage\n",
    "\n",
    "# 메모리 사용량 측정 함수\n",
    "def measure_memory(func, *args):\n",
    "    mem_usage = memory_usage((func, args))  # 튜플 형태로 전달\n",
    "    return max(mem_usage)\n",
    "\n",
    "# 코드 실행 및 메모리 사용량 비교\n",
    "mem1 = measure_memory(transcription, seq)\n",
    "mem2 = measure_memory(transcription_ans, seq)\n",
    "\n",
    "print(f\"Code1 메모리 사용량: {mem1} MiB\")\n",
    "print(f\"Code2 메모리 사용량: {mem2} MiB\")\n"
   ]
  },
  {
   "cell_type": "code",
   "execution_count": 40,
   "metadata": {},
   "outputs": [],
   "source": [
    "# mRNA to protein - translation\n",
    "def translate_codon(cod):\n",
    "    tc = {\"GCT\": \"A\", \"GCC\": \"A\", \"GCA\": \"A\", \"GCG\": \"A\", \"TGT\": \"C\", \"TGC\": \"C\", \"GAT\": \"D\", \"GAC\": \"D\", \"GAA\": \"E\",\n",
    "\"GAG\": \"E\", \"TTT\": \"F\", \"TTC\": \"F\", \"GGT\": \"G\", \"GGC\": \"G\", \"GGA\": \"G\", \"GGG\": \"G\", \"CAT\": \"H\", \"CAC\": \"H\",\n",
    "\"ATA\": \"I\", \"ATT\": \"I\", \"ATC\": \"I\", \"AAA\": \"K\", \"AAG\": \"K\", \"TTA\": \"L\", \"TTG\": \"L\", \"CTT\": \"L\", \"CTC\": \"L\",\n",
    "\"CTA\": \"L\", \"CTG\": \"L\", \"ATG\": \"M\", \"AAT\": \"N\", \"AAC\": \"N\", \"CCT\": \"P\", \"CCC\": \"P\", \"CCA\": \"P\", \"CCG\": \"P\",\n",
    "\"CAA\": \"Q\", \"CAG\": \"Q\", \"CGT\": \"R\", \"CGC\": \"R\", \"CGA\": \"R\", \"CGG\": \"R\", \"AGA\": \"R\", \"AGG\": \"R\", \"TCT\": \"S\",\n",
    "\"TCC\": \"S\", \"TCA\": \"S\", \"TCG\": \"S\", \"AGT\": \"S\", \"AGC\": \"S\", \"ACT\": \"T\", \"ACC\": \"T\", \"ACA\": \"T\", \"ACG\": \"T\",\n",
    "\"GTT\": \"V\", \"GTC\": \"V\", \"GTA\": \"V\", \"GTG\": \"V\", \"TGG\": \"W\", \"TAT\": \"Y\", \"TAC\": \"Y\", \"TAA\": \"_\", \"TAG\": \"_\",\n",
    "\"TGA\": \"_\"}\n",
    "    if cod in tc:\n",
    "        return tc[cod]\n",
    "    else:\n",
    "        return None\n"
   ]
  },
  {
   "cell_type": "code",
   "execution_count": 41,
   "metadata": {},
   "outputs": [
    {
     "data": {
      "text/plain": [
       "'M'"
      ]
     },
     "execution_count": 41,
     "metadata": {},
     "output_type": "execute_result"
    }
   ],
   "source": [
    "translate_codon(\"ATG\")"
   ]
  },
  {
   "cell_type": "code",
   "execution_count": 42,
   "metadata": {},
   "outputs": [],
   "source": [
    "def translate_seq(dna_seq, ini_pos = 0):\n",
    "    seqm = dna_seq.upper()\n",
    "    seq_aa = \"\"\n",
    "    for pos in range(ini_pos, len(seqm)-2, 3):\n",
    "        cod = seqm[pos:(pos+3)]\n",
    "        if translate_codon(cod):\n",
    "            seq_aa += translate_codon(cod)\n",
    "        else:\n",
    "            raise Exception('Check your sequence')\n",
    "    return seq_aa"
   ]
  },
  {
   "cell_type": "code",
   "execution_count": 43,
   "metadata": {},
   "outputs": [
    {
     "data": {
      "text/plain": [
       "'MM'"
      ]
     },
     "execution_count": 43,
     "metadata": {},
     "output_type": "execute_result"
    }
   ],
   "source": [
    "translate_seq(\"ATGATGG\")"
   ]
  },
  {
   "cell_type": "code",
   "execution_count": 44,
   "metadata": {},
   "outputs": [
    {
     "data": {
      "text/plain": [
       "'__'"
      ]
     },
     "execution_count": 44,
     "metadata": {},
     "output_type": "execute_result"
    }
   ],
   "source": [
    "translate_seq(\"ATGATAGG\",1)"
   ]
  },
  {
   "cell_type": "code",
   "execution_count": 45,
   "metadata": {},
   "outputs": [
    {
     "data": {
      "text/plain": [
       "'DR'"
      ]
     },
     "execution_count": 45,
     "metadata": {},
     "output_type": "execute_result"
    }
   ],
   "source": [
    "translate_seq(\"ATGATAGG\",2)"
   ]
  },
  {
   "cell_type": "code",
   "execution_count": 51,
   "metadata": {},
   "outputs": [],
   "source": [
    "def reverse_complement(seq):\n",
    "    temp_seq = seq[::-1]\n",
    "    nt_pairH = {'A':'T', 'T':'A', 'C':'G', 'G':'C'}\n",
    "    return ''.join([nt_pairH.get(nt, 'X') for nt in temp_seq])"
   ]
  },
  {
   "cell_type": "code",
   "execution_count": 52,
   "metadata": {},
   "outputs": [],
   "source": [
    "# Get reading frames from a DNA sequence\n",
    "def reading_frames(dna_seq):\n",
    "    assert valid_dna(dna_seq), 'Your sequence is not valid'\n",
    "    res_orig = [translate_seq(dna_seq, i) for i in range(0,3)]\n",
    "    res_rc = [translate_seq(reverse_complement(dna_seq), i) for i in range(0,3)]\n",
    "    return res_orig + res_rc\n",
    "\n"
   ]
  },
  {
   "cell_type": "code",
   "execution_count": 53,
   "metadata": {},
   "outputs": [
    {
     "data": {
      "text/plain": [
       "['MI', '__', 'DR', 'PI', 'LS', 'YH']"
      ]
     },
     "execution_count": 53,
     "metadata": {},
     "output_type": "execute_result"
    }
   ],
   "source": [
    "reading_frames(\"ATGATAGG\")"
   ]
  },
  {
   "cell_type": "code",
   "execution_count": 55,
   "metadata": {},
   "outputs": [
    {
     "name": "stdout",
     "output_type": "stream",
     "text": [
      "[]\n",
      "['ME']\n",
      "['ME', 'ME']\n"
     ]
    }
   ],
   "source": [
    "# Get open reading frames\n",
    "def all_proteins_rf(aa_seq):\n",
    "    aa_seq = aa_seq.upper()\n",
    "    prot = []\n",
    "    start_idx = [idx for idx, aa in enumerate(aa_seq) if aa == 'M']\n",
    "    end_idx = [idx for idx, aa in enumerate(aa_seq) if aa == \"_\"]\n",
    "    if start_idx and end_idx:\n",
    "        for sidx in start_idx:\n",
    "            eidx_list = [eidx for eidx in end_idx if eidx > sidx]\n",
    "            if eidx_list:\n",
    "                prot.append(aa_seq[sidx:min(eidx_list)])\n",
    "    return prot\n",
    "\n",
    "print(all_proteins_rf(\"AEGFAMAAME\"))\n",
    "print(all_proteins_rf(\"AEGFAAAME_\"))\n",
    "print(all_proteins_rf(\"AEGFAAAME_RVME_\"))"
   ]
  },
  {
   "cell_type": "code",
   "execution_count": 56,
   "metadata": {},
   "outputs": [],
   "source": [
    "# Get open reading frames\n",
    "\n",
    "def all_proteins_rf2(aa_seq):\n",
    "    aa_seq = aa_seq.upper()\n",
    "    current_prot = []\n",
    "    proteins = []\n",
    "    for aa in aa_seq:\n",
    "        if aa == \"_\":\n",
    "            if current_prot:\n",
    "                for p in current_prot:\n",
    "                    proteins.append(p)\n",
    "                current_prot = []\n",
    "        else:\n",
    "            if aa == \"M\":\n",
    "                current_prot.append(\"\")\n",
    "            for i in range(len(current_prot)):\n",
    "                current_prot[i] += aa\n",
    "    return proteins    \n"
   ]
  },
  {
   "cell_type": "code",
   "execution_count": 57,
   "metadata": {},
   "outputs": [
    {
     "name": "stdout",
     "output_type": "stream",
     "text": [
      "[]\n",
      "['ME']\n",
      "['ME', 'ME']\n"
     ]
    }
   ],
   "source": [
    "print(all_proteins_rf2(\"AEGFAMAAME\"))\n",
    "print(all_proteins_rf2(\"AEGFAAAME_\"))\n",
    "print(all_proteins_rf2(\"AEGFAAAME_RVME_\"))"
   ]
  },
  {
   "cell_type": "code",
   "execution_count": 58,
   "metadata": {},
   "outputs": [],
   "source": [
    "def all_orfs(dna_seq):\n",
    "    rfs = reading_frames(dna_seq)\n",
    "    res = []\n",
    "    for rf in rfs:\n",
    "        prots = all_proteins_rf2(rf)\n",
    "        for p in prots:\n",
    "            res.append(p)\n",
    "    return res"
   ]
  },
  {
   "cell_type": "code",
   "execution_count": 60,
   "metadata": {},
   "outputs": [
    {
     "data": {
      "text/plain": [
       "['MLI', 'MV']"
      ]
     },
     "execution_count": 60,
     "metadata": {},
     "output_type": "execute_result"
    }
   ],
   "source": [
    "all_orfs(\"AATGTTAATTTAGGATGGTCTAA\")"
   ]
  },
  {
   "cell_type": "code",
   "execution_count": null,
   "metadata": {},
   "outputs": [],
   "source": []
  }
 ],
 "metadata": {
  "kernelspec": {
   "display_name": "myenv",
   "language": "python",
   "name": "python3"
  },
  "language_info": {
   "codemirror_mode": {
    "name": "ipython",
    "version": 3
   },
   "file_extension": ".py",
   "mimetype": "text/x-python",
   "name": "python",
   "nbconvert_exporter": "python",
   "pygments_lexer": "ipython3",
   "version": "3.8.20"
  }
 },
 "nbformat": 4,
 "nbformat_minor": 2
}
