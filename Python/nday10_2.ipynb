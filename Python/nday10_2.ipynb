{
 "cells": [
  {
   "cell_type": "code",
   "execution_count": 2,
   "metadata": {},
   "outputs": [
    {
     "name": "stdout",
     "output_type": "stream",
     "text": [
      "/Users/knu_cgl1/Desktop/Study/Obsidian/Biopython_study/Python\n"
     ]
    }
   ],
   "source": [
    "# Setting\n",
    "myDir = '/Users/knu_cgl1/Desktop/Study/Obsidian/Biopython_study/Python'\n",
    "myDir2 = '/Users/knu_cgl1/Desktop/Study/repositories/BIC0711_practice1'\n",
    "\n",
    "import os, sys\n",
    "import random\n",
    "import math\n",
    "print(os.getcwd())\n",
    "sys.path.append(myDir)\n",
    "import myfuncs\n"
   ]
  },
  {
   "cell_type": "code",
   "execution_count": 3,
   "metadata": {},
   "outputs": [],
   "source": [
    "# Quiz 1\n",
    "def valid_dan(seq):\n",
    "    dna_seq = seq.upper()\n",
    "    dna_seq_count = [dna_seq.count(nt) for nt in 'ATCG']\n",
    "    return sum(dna_seq_count) == len(dna_seq)"
   ]
  },
  {
   "cell_type": "code",
   "execution_count": 4,
   "metadata": {},
   "outputs": [
    {
     "name": "stdout",
     "output_type": "stream",
     "text": [
      "True\n",
      "False\n"
     ]
    }
   ],
   "source": [
    "print(valid_dan('ATCGATCGATCG'))\n",
    "print(valid_dan('ATCGATCGATCGX'))"
   ]
  },
  {
   "cell_type": "code",
   "execution_count": null,
   "metadata": {},
   "outputs": [],
   "source": []
  }
 ],
 "metadata": {
  "kernelspec": {
   "display_name": "myenv",
   "language": "python",
   "name": "python3"
  },
  "language_info": {
   "codemirror_mode": {
    "name": "ipython",
    "version": 3
   },
   "file_extension": ".py",
   "mimetype": "text/x-python",
   "name": "python",
   "nbconvert_exporter": "python",
   "pygments_lexer": "ipython3",
   "version": "3.8.20"
  }
 },
 "nbformat": 4,
 "nbformat_minor": 2
}
