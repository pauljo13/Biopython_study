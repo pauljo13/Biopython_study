{
 "cells": [
  {
   "cell_type": "markdown",
   "metadata": {},
   "source": [
    "# Biopython\n",
    "biopython은 파이썬 기반 컴퓨터 분자 생물학 파이썬 라이브러리이다. 생물정보학 분야에서 자주 사용되며, DNA, RNA, 단백질 서열 데이터 및 생물학 관련 다양한 데이터 형식들을 다룰 수 있는 도구를 제공한다.\n",
    "\n",
    "- 기능\n",
    "    - 서열 분석\n",
    "        - DNA, RNA, Proten sequence.\n",
    "        - GC 함량 계산, 역상보 서열 생성 등의 작업 가능\n",
    "    - 파일 포맷 피싱\n",
    "        - 여러 생물정보학 파일 포멧을 파이썬 데이터 구조로 지원한다.\n",
    "        - Blast output, Clustalw, FASTA, GenBank, PubMed and Medline, ExPASy files, SCOP, UniGene, SwisssProt\n",
    "    - 생물학적 데이터 접근\n",
    "        - NCBI, UniProt 등 외부 데이터베이스와의 연결할 수 있다.\n",
    "        - BLAST 검색 자동화 가능하다.\n",
    "    - 계보 및 진화 분석\n",
    "        - 계통도 생성 및 분석을 위한 도구가 포함되어 있다.\n",
    "        - Phylo 모듈로 다양한 포맷의 계통수를 다룬다.\n",
    "    - 알고리즘 및 분석 도구\n",
    "        - Smith-Waterman, Needleman-Wunsch 등의 정렬 알고리즘 구현한다.\n",
    "        - 서열 간의 유사성 계산, 정렬 작업 가능하다.\n",
    "    - 구조 데이터 처리\n",
    "        - 단백질 구조 데이터를 PDB 포맷으로 파싱 및 분석 가능하다."
   ]
  },
  {
   "cell_type": "code",
   "execution_count": null,
   "metadata": {},
   "outputs": [
    {
     "name": "stdout",
     "output_type": "stream",
     "text": [
      "1.83\n"
     ]
    }
   ],
   "source": [
    "### 설치 확인\n",
    "##### 설치 : !pip install biopython\n",
    "import Bio\n",
    "print(Bio.__version__)"
   ]
  },
  {
   "cell_type": "markdown",
   "metadata": {},
   "source": [
    "## 01 시퀀싱 객체\n",
    "생물학적 시퀀싱은 \n"
   ]
  },
  {
   "cell_type": "code",
   "execution_count": 7,
   "metadata": {},
   "outputs": [
    {
     "data": {
      "text/plain": [
       "Seq('AGTACACTGGT')"
      ]
     },
     "execution_count": 7,
     "metadata": {},
     "output_type": "execute_result"
    }
   ],
   "source": [
    "from Bio.Seq import Seq\n",
    "my_seq = Seq(\"AGTACACTGGT\")\n",
    "my_seq"
   ]
  },
  {
   "cell_type": "code",
   "execution_count": 8,
   "metadata": {},
   "outputs": [
    {
     "name": "stdout",
     "output_type": "stream",
     "text": [
      "AGTACACTGGT\n"
     ]
    }
   ],
   "source": [
    "print(my_seq)"
   ]
  },
  {
   "cell_type": "code",
   "execution_count": 9,
   "metadata": {},
   "outputs": [
    {
     "data": {
      "text/plain": [
       "Bio.Seq.Seq"
      ]
     },
     "execution_count": 9,
     "metadata": {},
     "output_type": "execute_result"
    }
   ],
   "source": [
    "type(my_seq)"
   ]
  },
  {
   "cell_type": "code",
   "execution_count": null,
   "metadata": {},
   "outputs": [],
   "source": []
  }
 ],
 "metadata": {
  "kernelspec": {
   "display_name": "myenv",
   "language": "python",
   "name": "python3"
  },
  "language_info": {
   "codemirror_mode": {
    "name": "ipython",
    "version": 3
   },
   "file_extension": ".py",
   "mimetype": "text/x-python",
   "name": "python",
   "nbconvert_exporter": "python",
   "pygments_lexer": "ipython3",
   "version": "3.8.20"
  }
 },
 "nbformat": 4,
 "nbformat_minor": 2
}
