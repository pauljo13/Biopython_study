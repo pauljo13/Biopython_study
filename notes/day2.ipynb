{
 "cells": [
  {
   "cell_type": "markdown",
   "metadata": {},
   "source": [
    "# Sequences objects 2\n",
    "## Translation\n",
    "번역은 전사(transcription) 과정을 통해 생성된 mRNA(메신저 RNA)의 정보를 바탕으로 리보솜이 단백질을 합성하는 과정입니다. 이 과정은 세포질에서 이루어지며, 세포 내에서 단백질의 구조와 기능을 결정하는 핵심 단계입니다.\n",
    "\n",
    "---\n",
    "\n",
    "## 번역 과정\n",
    "### 1. 개시 단계 (Initiation)\n",
    "- **리보솜 조립**: 소단위 리보솜이 mRNA의 시작 코돈(AUG)에 결합합니다.\n",
    "- **tRNA 결합**: 개시 tRNA가 메싸이오닌(Methionine)을 운반하며 시작 코돈에 결합합니다.\n",
    "- **대단위 리보솜 결합**: 대단위 리보솜이 소단위 리보솜에 결합해 번역 복합체를 형성합니다.\n",
    "\n",
    "---\n",
    "\n",
    "### 2. 신장 단계 (Elongation)\n",
    "- **코돈-안티코돈 상호작용**: tRNA의 안티코돈이 mRNA의 코돈과 결합합니다.\n",
    "- **아미노산 연결**: 리보솜이 펩타이드 결합을 형성하여 아미노산을 연결합니다.\n",
    "- **리보솜 이동**: 리보솜이 mRNA를 따라 이동하며 다음 코돈을 읽습니다.\n",
    "\n",
    "---\n",
    "\n",
    "### 3. 종결 단계 (Termination)\n",
    "- **종결 코돈 도달**: UAA, UAG, UGA와 같은 종결 코돈에 도달하면 번역이 종료됩니다.\n",
    "- **방출 인자 작용**: 방출 인자가 리보솜에 결합하여 번역 복합체를 분리합니다.\n",
    "- **단백질 방출**: 완성된 폴리펩타이드가 리보솜에서 방출됩니다.\n",
    "\n",
    "---\n",
    "\n",
    "## 번역의 생물학적 중요성\n",
    "1. **단백질 합성**: 번역 과정은 세포 기능을 담당하는 단백질을 생성하는 핵심 단계입니다.\n",
    "2. **정확성**: 코돈-안티코돈 매칭을 통해 단백질 합성의 정확성이 유지됩니다.\n",
    "3. **다양성**: 한 개의 mRNA는 여러 번 번역되어 동일한 단백질을 다량으로 생성할 수 있습니다.\n",
    "\n",
    "---\n",
    "\n",
    "## 관련 용어\n",
    "- **mRNA (메신저 RNA)**: 단백질 합성 정보를 담고 있는 RNA.\n",
    "- **tRNA (전이 RNA)**: 아미노산을 운반하고 코돈에 결합하는 RNA.\n",
    "- **리보솜**: 단백질 합성 공장이며, 소단위와 대단위로 구성.\n",
    "- **코돈**: mRNA의 3개 염기로 구성된 단백질 암호화 단위.\n",
    "- **안티코돈**: tRNA가 가지고 있는 mRNA 코돈과 상보적인 3개 염기 서열.\n",
    "\n",
    "---\n",
    "\n",
    "### 예시\n",
    "**mRNA 서열**: AUG GGC UUU UGA  \n",
    "**번역된 아미노산 서열**: Methionine - Glycine - Phenylalanine"
   ]
  },
  {
   "cell_type": "markdown",
   "metadata": {},
   "source": [
    "### .translate()\n",
    "mRNA 시퀀스를 번역하는 메소드"
   ]
  },
  {
   "cell_type": "code",
   "execution_count": 1,
   "metadata": {},
   "outputs": [
    {
     "data": {
      "text/plain": [
       "Seq('AUGGCCAUUGUAAUGGGCCGCUGAAAGGGUGCCCGAUAG')"
      ]
     },
     "execution_count": 1,
     "metadata": {},
     "output_type": "execute_result"
    }
   ],
   "source": [
    "from Bio.Seq import Seq\n",
    "m_rna = Seq(\"AUGGCCAUUGUAAUGGGCCGCUGAAAGGGUGCCCGAUAG\")\n",
    "m_rna"
   ]
  },
  {
   "cell_type": "code",
   "execution_count": 2,
   "metadata": {},
   "outputs": [
    {
     "data": {
      "text/plain": [
       "Seq('MAIVMGR*KGAR*')"
      ]
     },
     "execution_count": 2,
     "metadata": {},
     "output_type": "execute_result"
    }
   ],
   "source": [
    "m_rna.translate()"
   ]
  },
  {
   "cell_type": "code",
   "execution_count": 3,
   "metadata": {},
   "outputs": [
    {
     "data": {
      "text/plain": [
       "Seq('ATGGCCATTGTAATGGGCCGCTGAAAGGGTGCCCGATAG')"
      ]
     },
     "execution_count": 3,
     "metadata": {},
     "output_type": "execute_result"
    }
   ],
   "source": [
    "coding_dna = Seq(\"ATGGCCATTGTAATGGGCCGCTGAAAGGGTGCCCGATAG\")\n",
    "coding_dna"
   ]
  },
  {
   "cell_type": "code",
   "execution_count": 4,
   "metadata": {},
   "outputs": [
    {
     "data": {
      "text/plain": [
       "Seq('MAIVMGR*KGAR*')"
      ]
     },
     "execution_count": 4,
     "metadata": {},
     "output_type": "execute_result"
    }
   ],
   "source": [
    "coding_dna.translate()"
   ]
  },
  {
   "cell_type": "code",
   "execution_count": null,
   "metadata": {},
   "outputs": [
    {
     "data": {
      "text/plain": [
       "Seq('MAIVMGRWKGAR*')"
      ]
     },
     "execution_count": 5,
     "metadata": {},
     "output_type": "execute_result"
    }
   ],
   "source": [
    "# 번역은 NCBI의 변환표를 기반으로 만들어졌다.\n",
    "coding_dna.translate(table=\"Vertebrate Mitochondrial\")"
   ]
  },
  {
   "cell_type": "code",
   "execution_count": null,
   "metadata": {},
   "outputs": [
    {
     "data": {
      "text/plain": [
       "Seq('MAIVMGRWKGAR*')"
      ]
     },
     "execution_count": 6,
     "metadata": {},
     "output_type": "execute_result"
    }
   ],
   "source": [
    "# NCBI 테이블 번호를 사용하여 테이블을 지정할 수 있다.\n",
    "coding_dna.translate(table=2)"
   ]
  },
  {
   "cell_type": "markdown",
   "metadata": {},
   "source": [
    "#### NCBI 번역 테이블 (Genetic Code Tables)\n",
    "\n",
    "NCBI 번역 테이블은 생물종에 따라 다양한 유전 암호를 제공합니다. 각 테이블은 코돈(3개 염기)과 대응하는 아미노산의 관계를 정의합니다.\n",
    "\n",
    "---\n",
    "\n",
    "##### 주요 번역 테이블\n",
    "\n",
    "##### 1. **표준 유전 암호 (The Standard Code)**\n",
    "- **테이블 번호**: 1  \n",
    "- **설명**: 대부분의 생명체(원핵생물, 진핵생물, 바이러스)에서 사용.  \n",
    "- **특징**:  \n",
    "  - AUG: Methionine (시작 코돈)  \n",
    "  - UAA, UAG, UGA: 종결 코돈  \n",
    "\n",
    "---\n",
    "\n",
    "##### 2. **척추동물 미토콘드리아 유전 암호 (Vertebrate Mitochondrial Code)**\n",
    "- **테이블 번호**: 2  \n",
    "- **설명**: 척추동물의 미토콘드리아에서 사용.  \n",
    "- **특징**: 일부 코돈이 표준 암호와 다르게 해석됨.  \n",
    "  - 예: AUA → Methionine (표준 코드에서는 Isoleucine)\n",
    "\n",
    "---\n",
    "\n",
    "##### 3. **효모 미토콘드리아 유전 암호 (Yeast Mitochondrial Code)**\n",
    "- **테이블 번호**: 3  \n",
    "- **설명**: 효모 미토콘드리아에 특화된 유전 암호.  \n",
    "- **특징**: 미토콘드리아에서만 사용됨.\n",
    "\n",
    "---\n",
    "\n",
    "##### 4. **곰팡이 및 원생생물 미토콘드리아 유전 암호**\n",
    "- **테이블 번호**: 4  \n",
    "- **설명**: 곰팡이, 원생생물, 자포동물(Coelenterates)의 미토콘드리아에서 사용.  \n",
    "\n",
    "---\n",
    "\n",
    "##### 5. **고세균 유전 암호 (Archaeal Code)**\n",
    "- **테이블 번호**: 11  \n",
    "- **설명**: 고세균 및 일부 세균에서 사용.  \n",
    "- **특징**: 표준 유전 암호와 유사하지만 세부 차이가 있음.\n",
    "\n",
    "---\n",
    "\n",
    "##### 6. **섬모충 유전 암호 (The Ciliate Code)**\n",
    "- **테이블 번호**: 6  \n",
    "- **설명**: 섬모충류(Ciliates)에서 사용.  \n",
    "- **특징**:  \n",
    "  - UAA, UAG: 아미노산으로 번역 (종결 코돈이 아님)\n",
    "\n",
    "---\n",
    "\n",
    "##### 7. **세균, 고세균 및 식물 엽록체 암호 (Bacterial, Archaeal and Plant Plastid Code)**\n",
    "- **테이블 번호**: 11  \n",
    "- **설명**: 세균, 고세균 및 식물 엽록체에서 사용.  \n",
    "\n",
    "---\n",
    "\n",
    "##### 번역 테이블의 사용 목적\n",
    "1. **생물 다양성 이해**: 각 생물종의 특수 유전 암호 분석.  \n",
    "2. **유전자 주석**: 다양한 생물군의 유전자와 단백질 연구.  \n",
    "3. **생물학적 진화 연구**: 유전 암호의 변형과 진화적 적응 분석.\n",
    "\n",
    "---\n",
    "\n",
    "##### 참고\n",
    "NCBI에서 번역 테이블의 전체 목록과 상세 내용은 [NCBI 공식 문서](https://www.ncbi.nlm.nih.gov/Taxonomy/Utils/wprintgc.cgi)에서 확인할 수 있습니다."
   ]
  },
  {
   "cell_type": "code",
   "execution_count": 7,
   "metadata": {},
   "outputs": [
    {
     "data": {
      "text/plain": [
       "Seq('MAIVMGR*KGAR*')"
      ]
     },
     "execution_count": 7,
     "metadata": {},
     "output_type": "execute_result"
    }
   ],
   "source": [
    "coding_dna.translate()"
   ]
  },
  {
   "cell_type": "code",
   "execution_count": null,
   "metadata": {},
   "outputs": [
    {
     "data": {
      "text/plain": [
       "Seq('MAIVMGR')"
      ]
     },
     "execution_count": 8,
     "metadata": {},
     "output_type": "execute_result"
    }
   ],
   "source": [
    "# 정지 코돈의 첫 번째까지 번역하게 할 수 있다.\n",
    "# 종료 코돈 자체를 번역하지 않는다.\n",
    "coding_dna.translate(to_stop=True)"
   ]
  },
  {
   "cell_type": "code",
   "execution_count": 9,
   "metadata": {},
   "outputs": [
    {
     "data": {
      "text/plain": [
       "Seq('MAIVMGRWKGAR*')"
      ]
     },
     "execution_count": 9,
     "metadata": {},
     "output_type": "execute_result"
    }
   ],
   "source": [
    "coding_dna.translate(table=2)"
   ]
  },
  {
   "cell_type": "code",
   "execution_count": 10,
   "metadata": {},
   "outputs": [
    {
     "data": {
      "text/plain": [
       "Seq('MAIVMGRWKGAR')"
      ]
     },
     "execution_count": 10,
     "metadata": {},
     "output_type": "execute_result"
    }
   ],
   "source": [
    "coding_dna.translate(table=2, to_stop=True)"
   ]
  },
  {
   "cell_type": "code",
   "execution_count": null,
   "metadata": {},
   "outputs": [
    {
     "data": {
      "text/plain": [
       "Seq('MAIVMGRWKGAR@')"
      ]
     },
     "execution_count": 11,
     "metadata": {},
     "output_type": "execute_result"
    }
   ],
   "source": [
    "# stop_symbol로 종료 코돈을 표시할 수 있다.\n",
    "coding_dna.translate(table=2, stop_symbol=\"@\")"
   ]
  },
  {
   "cell_type": "code",
   "execution_count": 13,
   "metadata": {},
   "outputs": [
    {
     "name": "stdout",
     "output_type": "stream",
     "text": [
      "GTGAAAAAGATGCAATCTATCGTACTCGCACTTTCCCTGGTTCTGGTCGCTCCCATGGCAGCACAGGCTGCGGAAATTACGTTAGTCCCGTCAGTAAAATTACAGATAGGCGATCGTGATAATCGTGGCTATTACTGGGATGGAGGTCACTGGCGCGACCACGGCTGGTGGAAACAACATTATGAATGGCGAGGCAATCGCTGGCACCTACACGGACCGCCGCCACCGCCGCGCCACCATAAGAAAGCTCCTCATGATCATCACGGCGGTCATGGTCCAGGCAAACATCACCGCTAA\n"
     ]
    },
    {
     "data": {
      "text/plain": [
       "Seq('VKKMQSIVLALSLVLVAPMAAQAAEITLVPSVKLQIGDRDNRGYYWDGGHWRDH...HR*')"
      ]
     },
     "execution_count": 13,
     "metadata": {},
     "output_type": "execute_result"
    }
   ],
   "source": [
    "gene = Seq(\n",
    "    \"GTGAAAAAGATGCAATCTATCGTACTCGCACTTTCCCTGGTTCTGGTCGCTCCCATGGCA\"\n",
    "    \"GCACAGGCTGCGGAAATTACGTTAGTCCCGTCAGTAAAATTACAGATAGGCGATCGTGAT\"\n",
    "    \"AATCGTGGCTATTACTGGGATGGAGGTCACTGGCGCGACCACGGCTGGTGGAAACAACAT\"\n",
    "    \"TATGAATGGCGAGGCAATCGCTGGCACCTACACGGACCGCCGCCACCGCCGCGCCACCAT\"\n",
    "    \"AAGAAAGCTCCTCATGATCATCACGGCGGTCATGGTCCAGGCAAACATCACCGCTAA\"\n",
    ")\n",
    "print(gene)\n",
    "gene.translate(table=\"Bacterial\")"
   ]
  },
  {
   "cell_type": "code",
   "execution_count": 14,
   "metadata": {},
   "outputs": [
    {
     "data": {
      "text/plain": [
       "Seq('VKKMQSIVLALSLVLVAPMAAQAAEITLVPSVKLQIGDRDNRGYYWDGGHWRDH...HHR')"
      ]
     },
     "execution_count": 14,
     "metadata": {},
     "output_type": "execute_result"
    }
   ],
   "source": [
    "gene.translate(table=\"Bacterial\", to_stop=True)"
   ]
  },
  {
   "cell_type": "code",
   "execution_count": null,
   "metadata": {},
   "outputs": [
    {
     "data": {
      "text/plain": [
       "Seq('MKKMQSIVLALSLVLVAPMAAQAAEITLVPSVKLQIGDRDNRGYYWDGGHWRDH...HHR')"
      ]
     },
     "execution_count": 15,
     "metadata": {},
     "output_type": "execute_result"
    }
   ],
   "source": [
    "gene.translate(table=\"Bacterial\", cds=True)\n",
    "\"\"\"박테리아 유전 코드에는 GTG 유효한 시작코돈이 있으나, 일반적으로 메티오닌으로 번역되는데 cds를 이용해 메티오닌으로 번역되도록 한다.\"\"\"\n"
   ]
  },
  {
   "cell_type": "markdown",
   "metadata": {},
   "source": [
    "### 번역표\n",
    "biopython에서 사용하는 번역표를 출력할 수 있다. 이는 NCBI 정보를 토대로 만들어져 있다."
   ]
  },
  {
   "cell_type": "code",
   "execution_count": null,
   "metadata": {},
   "outputs": [],
   "source": [
    "from Bio.Data import CodonTable\n",
    "standard_table = CodonTable.unambiguous_dna_by_name[\"Standard\"]\n",
    "# or = CodonTable.unambiguous_dna_by_id[1]\n",
    "mito_table = CodonTable.unambiguous_dna_by_name[\"Vertebrate Mitochondrial\"]\n",
    "# or = CodonTable.unambiguous_dna_by_id[2]"
   ]
  },
  {
   "cell_type": "code",
   "execution_count": 17,
   "metadata": {},
   "outputs": [
    {
     "name": "stdout",
     "output_type": "stream",
     "text": [
      "Table 1 Standard, SGC0\n",
      "\n",
      "  |  T      |  C      |  A      |  G      |\n",
      "--+---------+---------+---------+---------+--\n",
      "T | TTT F   | TCT S   | TAT Y   | TGT C   | T\n",
      "T | TTC F   | TCC S   | TAC Y   | TGC C   | C\n",
      "T | TTA L   | TCA S   | TAA Stop| TGA Stop| A\n",
      "T | TTG L(s)| TCG S   | TAG Stop| TGG W   | G\n",
      "--+---------+---------+---------+---------+--\n",
      "C | CTT L   | CCT P   | CAT H   | CGT R   | T\n",
      "C | CTC L   | CCC P   | CAC H   | CGC R   | C\n",
      "C | CTA L   | CCA P   | CAA Q   | CGA R   | A\n",
      "C | CTG L(s)| CCG P   | CAG Q   | CGG R   | G\n",
      "--+---------+---------+---------+---------+--\n",
      "A | ATT I   | ACT T   | AAT N   | AGT S   | T\n",
      "A | ATC I   | ACC T   | AAC N   | AGC S   | C\n",
      "A | ATA I   | ACA T   | AAA K   | AGA R   | A\n",
      "A | ATG M(s)| ACG T   | AAG K   | AGG R   | G\n",
      "--+---------+---------+---------+---------+--\n",
      "G | GTT V   | GCT A   | GAT D   | GGT G   | T\n",
      "G | GTC V   | GCC A   | GAC D   | GGC G   | C\n",
      "G | GTA V   | GCA A   | GAA E   | GGA G   | A\n",
      "G | GTG V   | GCG A   | GAG E   | GGG G   | G\n",
      "--+---------+---------+---------+---------+--\n"
     ]
    }
   ],
   "source": [
    "print(standard_table)"
   ]
  },
  {
   "cell_type": "code",
   "execution_count": 18,
   "metadata": {},
   "outputs": [
    {
     "name": "stdout",
     "output_type": "stream",
     "text": [
      "Table 2 Vertebrate Mitochondrial, SGC1\n",
      "\n",
      "  |  T      |  C      |  A      |  G      |\n",
      "--+---------+---------+---------+---------+--\n",
      "T | TTT F   | TCT S   | TAT Y   | TGT C   | T\n",
      "T | TTC F   | TCC S   | TAC Y   | TGC C   | C\n",
      "T | TTA L   | TCA S   | TAA Stop| TGA W   | A\n",
      "T | TTG L   | TCG S   | TAG Stop| TGG W   | G\n",
      "--+---------+---------+---------+---------+--\n",
      "C | CTT L   | CCT P   | CAT H   | CGT R   | T\n",
      "C | CTC L   | CCC P   | CAC H   | CGC R   | C\n",
      "C | CTA L   | CCA P   | CAA Q   | CGA R   | A\n",
      "C | CTG L   | CCG P   | CAG Q   | CGG R   | G\n",
      "--+---------+---------+---------+---------+--\n",
      "A | ATT I(s)| ACT T   | AAT N   | AGT S   | T\n",
      "A | ATC I(s)| ACC T   | AAC N   | AGC S   | C\n",
      "A | ATA M(s)| ACA T   | AAA K   | AGA Stop| A\n",
      "A | ATG M(s)| ACG T   | AAG K   | AGG Stop| G\n",
      "--+---------+---------+---------+---------+--\n",
      "G | GTT V   | GCT A   | GAT D   | GGT G   | T\n",
      "G | GTC V   | GCC A   | GAC D   | GGC G   | C\n",
      "G | GTA V   | GCA A   | GAA E   | GGA G   | A\n",
      "G | GTG V(s)| GCG A   | GAG E   | GGG G   | G\n",
      "--+---------+---------+---------+---------+--\n"
     ]
    }
   ],
   "source": [
    "print(mito_table)"
   ]
  },
  {
   "cell_type": "code",
   "execution_count": null,
   "metadata": {},
   "outputs": [
    {
     "data": {
      "text/plain": [
       "['ATT', 'ATC', 'ATA', 'ATG', 'GTG']"
      ]
     },
     "execution_count": 19,
     "metadata": {},
     "output_type": "execute_result"
    }
   ],
   "source": [
    "# 직접 유전자 코드를 입력하거나 메서드로 유전코드를 검색할 수 있다.\n",
    "mito_table.start_codons"
   ]
  },
  {
   "cell_type": "code",
   "execution_count": 20,
   "metadata": {},
   "outputs": [
    {
     "data": {
      "text/plain": [
       "['TAA', 'TAG', 'AGA', 'AGG']"
      ]
     },
     "execution_count": 20,
     "metadata": {},
     "output_type": "execute_result"
    }
   ],
   "source": [
    "mito_table.stop_codons"
   ]
  },
  {
   "cell_type": "code",
   "execution_count": 21,
   "metadata": {},
   "outputs": [
    {
     "data": {
      "text/plain": [
       "'T'"
      ]
     },
     "execution_count": 21,
     "metadata": {},
     "output_type": "execute_result"
    }
   ],
   "source": [
    "mito_table.forward_table[\"ACG\"]"
   ]
  },
  {
   "cell_type": "markdown",
   "metadata": {},
   "source": [
    "## Seq 객체 비교\n",
    "시퀀스 비교는 실제로 매우 복잡한 내용이다. 두 시퀀스가 같은지 여부를 쉽게 판단할 수 있는 방법은 없다. 기본적인 문제는 시퀀스의 문자의 의미가 맥락에 따라 달라진다."
   ]
  },
  {
   "cell_type": "code",
   "execution_count": 22,
   "metadata": {},
   "outputs": [
    {
     "data": {
      "text/plain": [
       "True"
      ]
     },
     "execution_count": 22,
     "metadata": {},
     "output_type": "execute_result"
    }
   ],
   "source": [
    "seq1 = Seq(\"ACGT\")\n",
    "\"ACGT\" == seq1"
   ]
  },
  {
   "cell_type": "code",
   "execution_count": 23,
   "metadata": {},
   "outputs": [
    {
     "data": {
      "text/plain": [
       "True"
      ]
     },
     "execution_count": 23,
     "metadata": {},
     "output_type": "execute_result"
    }
   ],
   "source": [
    "seq1 == \"ACGT\""
   ]
  },
  {
   "cell_type": "markdown",
   "metadata": {},
   "source": [
    "## 알 수 없는 시퀀스 내용이 있는 시퀀스\n",
    "어떤 경우에는 시퀀스의 길이는 알 수 있지만 그것을 구성하는 실제 서열을 알 수 없다. 시퀀스 내용을 명시적으로 지정하지 않고 구성 정보로만 게놈 DNA 시퀀스를 나타낼 수 있다. 이러한 시퀀스는 Seq 인수의 None 객체를 이용"
   ]
  },
  {
   "cell_type": "code",
   "execution_count": 25,
   "metadata": {},
   "outputs": [
    {
     "data": {
      "text/plain": [
       "Seq(None, length=10)"
      ]
     },
     "execution_count": 25,
     "metadata": {},
     "output_type": "execute_result"
    }
   ],
   "source": [
    "unknown_seq = Seq(None, 10)\n",
    "unknown_seq"
   ]
  },
  {
   "cell_type": "code",
   "execution_count": 26,
   "metadata": {},
   "outputs": [
    {
     "data": {
      "text/plain": [
       "10"
      ]
     },
     "execution_count": 26,
     "metadata": {},
     "output_type": "execute_result"
    }
   ],
   "source": [
    "len(unknown_seq)"
   ]
  },
  {
   "cell_type": "code",
   "execution_count": 27,
   "metadata": {},
   "outputs": [
    {
     "ename": "UndefinedSequenceError",
     "evalue": "Sequence content is undefined",
     "output_type": "error",
     "traceback": [
      "\u001b[0;31m---------------------------------------------------------------------------\u001b[0m",
      "\u001b[0;31mUndefinedSequenceError\u001b[0m                    Traceback (most recent call last)",
      "Cell \u001b[0;32mIn[27], line 1\u001b[0m\n\u001b[0;32m----> 1\u001b[0m \u001b[38;5;28;43mprint\u001b[39;49m\u001b[43m(\u001b[49m\u001b[43munknown_seq\u001b[49m\u001b[43m)\u001b[49m\n",
      "File \u001b[0;32m~/opt/anaconda3/envs/myenv/lib/python3.8/site-packages/Bio/Seq.py:409\u001b[0m, in \u001b[0;36m_SeqAbstractBaseClass.__str__\u001b[0;34m(self)\u001b[0m\n\u001b[1;32m    407\u001b[0m \u001b[38;5;28;01mdef\u001b[39;00m \u001b[38;5;21m__str__\u001b[39m(\u001b[38;5;28mself\u001b[39m):\n\u001b[1;32m    408\u001b[0m \u001b[38;5;250m    \u001b[39m\u001b[38;5;124;03m\"\"\"Return the full sequence as a python string.\"\"\"\u001b[39;00m\n\u001b[0;32m--> 409\u001b[0m     \u001b[38;5;28;01mreturn\u001b[39;00m \u001b[38;5;28;43mself\u001b[39;49m\u001b[38;5;241;43m.\u001b[39;49m\u001b[43m_data\u001b[49m\u001b[38;5;241;43m.\u001b[39;49m\u001b[43mdecode\u001b[49m\u001b[43m(\u001b[49m\u001b[38;5;124;43m\"\u001b[39;49m\u001b[38;5;124;43mASCII\u001b[39;49m\u001b[38;5;124;43m\"\u001b[39;49m\u001b[43m)\u001b[49m\n",
      "File \u001b[0;32m~/opt/anaconda3/envs/myenv/lib/python3.8/site-packages/Bio/Seq.py:157\u001b[0m, in \u001b[0;36mSequenceDataAbstractBaseClass.decode\u001b[0;34m(self, encoding)\u001b[0m\n\u001b[1;32m    151\u001b[0m \u001b[38;5;28;01mdef\u001b[39;00m \u001b[38;5;21mdecode\u001b[39m(\u001b[38;5;28mself\u001b[39m, encoding\u001b[38;5;241m=\u001b[39m\u001b[38;5;124m\"\u001b[39m\u001b[38;5;124mutf-8\u001b[39m\u001b[38;5;124m\"\u001b[39m):\n\u001b[1;32m    152\u001b[0m \u001b[38;5;250m    \u001b[39m\u001b[38;5;124;03m\"\"\"Decode the data as bytes using the codec registered for encoding.\u001b[39;00m\n\u001b[1;32m    153\u001b[0m \n\u001b[1;32m    154\u001b[0m \u001b[38;5;124;03m    encoding\u001b[39;00m\n\u001b[1;32m    155\u001b[0m \u001b[38;5;124;03m      The encoding with which to decode the bytes.\u001b[39;00m\n\u001b[1;32m    156\u001b[0m \u001b[38;5;124;03m    \"\"\"\u001b[39;00m\n\u001b[0;32m--> 157\u001b[0m     \u001b[38;5;28;01mreturn\u001b[39;00m \u001b[38;5;28;43mbytes\u001b[39;49m\u001b[43m(\u001b[49m\u001b[38;5;28;43mself\u001b[39;49m\u001b[43m)\u001b[49m\u001b[38;5;241m.\u001b[39mdecode(encoding)\n",
      "File \u001b[0;32m~/opt/anaconda3/envs/myenv/lib/python3.8/site-packages/Bio/Seq.py:2391\u001b[0m, in \u001b[0;36m_UndefinedSequenceData.__bytes__\u001b[0;34m(self)\u001b[0m\n\u001b[1;32m   2390\u001b[0m \u001b[38;5;28;01mdef\u001b[39;00m \u001b[38;5;21m__bytes__\u001b[39m(\u001b[38;5;28mself\u001b[39m):\n\u001b[0;32m-> 2391\u001b[0m     \u001b[38;5;28;01mraise\u001b[39;00m UndefinedSequenceError(\u001b[38;5;124m\"\u001b[39m\u001b[38;5;124mSequence content is undefined\u001b[39m\u001b[38;5;124m\"\u001b[39m)\n",
      "\u001b[0;31mUndefinedSequenceError\u001b[0m: Sequence content is undefined"
     ]
    }
   ],
   "source": [
    "print(unknown_seq)"
   ]
  },
  {
   "cell_type": "markdown",
   "metadata": {},
   "source": [
    "### 부분적으로 정의된 시퀀스 내용이 있는 시퀀스\n",
    "때떄로 시퀀스 내용은 시퀀스의 일부에 대해서만 정의되고 다른 곳에서는 정의되지 않는다."
   ]
  },
  {
   "cell_type": "code",
   "execution_count": 28,
   "metadata": {},
   "outputs": [
    {
     "data": {
      "text/plain": [
       "Seq({117512683: 'TTGAAAACCTGAATGTGAGAGTCAGTCAAGGATAGT'}, length=159345973)"
      ]
     },
     "execution_count": 28,
     "metadata": {},
     "output_type": "execute_result"
    }
   ],
   "source": [
    "seq = Seq({117512683: \"TTGAAAACCTGAATGTGAGAGTCAGTCAAGGATAGT\"}, length=159345973)\n",
    "seq"
   ]
  },
  {
   "cell_type": "code",
   "execution_count": 29,
   "metadata": {},
   "outputs": [
    {
     "data": {
      "text/plain": [
       "Seq(None, length=20)"
      ]
     },
     "execution_count": 29,
     "metadata": {},
     "output_type": "execute_result"
    }
   ],
   "source": [
    "seq[1000:1020]"
   ]
  },
  {
   "cell_type": "code",
   "execution_count": 30,
   "metadata": {},
   "outputs": [
    {
     "data": {
      "text/plain": [
       "Seq('CCTGAATGTG')"
      ]
     },
     "execution_count": 30,
     "metadata": {},
     "output_type": "execute_result"
    }
   ],
   "source": [
    "seq[117512690:117512700]"
   ]
  },
  {
   "cell_type": "code",
   "execution_count": 31,
   "metadata": {},
   "outputs": [
    {
     "data": {
      "text/plain": [
       "Seq({13: 'TTGAAAA'}, length=20)"
      ]
     },
     "execution_count": 31,
     "metadata": {},
     "output_type": "execute_result"
    }
   ],
   "source": [
    "seq[117512670:117512690]"
   ]
  },
  {
   "cell_type": "code",
   "execution_count": 32,
   "metadata": {},
   "outputs": [
    {
     "data": {
      "text/plain": [
       "Seq({0: 'AGAGTCAGTCAAGGATAGT'}, length=41833273)"
      ]
     },
     "execution_count": 32,
     "metadata": {},
     "output_type": "execute_result"
    }
   ],
   "source": [
    "seq[117512700:]"
   ]
  },
  {
   "cell_type": "code",
   "execution_count": 33,
   "metadata": {},
   "outputs": [
    {
     "data": {
      "text/plain": [
       "Seq({0: 'ACGT', 14: 'ACGT'}, length=18)"
      ]
     },
     "execution_count": 33,
     "metadata": {},
     "output_type": "execute_result"
    }
   ],
   "source": [
    "seq = Seq(\"ACGT\")\n",
    "undefined_seq = Seq(None, length=10)\n",
    "seq + undefined_seq + seq"
   ]
  },
  {
   "cell_type": "markdown",
   "metadata": {},
   "source": [
    "### MutableSeq 객체\n",
    "일반적인 Python 문자열과 마찬가지로 Seq객체는 \"읽기 전용\"이거나 Python 용어로는 불변이다. 객체가 Seq 문자열처럼 작동하기를 원하는 것 외에도, 많은 생물학적 응용 프로그램에서 시퀀스 데이터를 변경하지 않도록 해야 하기 때문에 이는 유용한 기본값이기도 하다."
   ]
  },
  {
   "cell_type": "code",
   "execution_count": 34,
   "metadata": {},
   "outputs": [],
   "source": [
    "my_seq = Seq(\"GCCATTGTAATGGGCCGCTGAAAGGGTGCCCGA\")"
   ]
  },
  {
   "cell_type": "code",
   "execution_count": 35,
   "metadata": {},
   "outputs": [
    {
     "data": {
      "text/plain": [
       "'T'"
      ]
     },
     "execution_count": 35,
     "metadata": {},
     "output_type": "execute_result"
    }
   ],
   "source": [
    "my_seq[5]"
   ]
  },
  {
   "cell_type": "code",
   "execution_count": null,
   "metadata": {},
   "outputs": [
    {
     "ename": "TypeError",
     "evalue": "'Seq' object does not support item assignment",
     "output_type": "error",
     "traceback": [
      "\u001b[0;31m---------------------------------------------------------------------------\u001b[0m",
      "\u001b[0;31mTypeError\u001b[0m                                 Traceback (most recent call last)",
      "Cell \u001b[0;32mIn[36], line 1\u001b[0m\n\u001b[0;32m----> 1\u001b[0m \u001b[43mmy_seq\u001b[49m\u001b[43m[\u001b[49m\u001b[38;5;241;43m5\u001b[39;49m\u001b[43m]\u001b[49m \u001b[38;5;241m=\u001b[39m \u001b[38;5;124m\"\u001b[39m\u001b[38;5;124mG\u001b[39m\u001b[38;5;124m\"\u001b[39m\n",
      "\u001b[0;31mTypeError\u001b[0m: 'Seq' object does not support item assignment"
     ]
    }
   ],
   "source": [
    "# seq는 읽기 전용으로 수정할 수 없다.\n",
    "my_seq[5] = \"G\""
   ]
  },
  {
   "cell_type": "code",
   "execution_count": null,
   "metadata": {},
   "outputs": [
    {
     "data": {
      "text/plain": [
       "MutableSeq('GCCATTGTAATGGGCCGCTGAAAGGGTGCCCGA')"
      ]
     },
     "execution_count": 38,
     "metadata": {},
     "output_type": "execute_result"
    }
   ],
   "source": [
    "from Bio.Seq import MutableSeq\n",
    "\n",
    "# MutableSeq으로 시퀀스 서열을 수정할 수 있다.\n",
    "mutable_seq = MutableSeq(my_seq)\n",
    "mutable_seq"
   ]
  },
  {
   "cell_type": "code",
   "execution_count": 41,
   "metadata": {},
   "outputs": [
    {
     "name": "stdout",
     "output_type": "stream",
     "text": [
      "GCCATTGTAATGGGCCGCTGAAAGGGTGCCCGA\n",
      "T\n",
      "C\n",
      "GCCATCGTAATGGGCCGCTGAAAGGGTGCCCGA\n"
     ]
    }
   ],
   "source": [
    "mutable_seq = MutableSeq(\"GCCATTGTAATGGGCCGCTGAAAGGGTGCCCGA\")\n",
    "print(mutable_seq)\n",
    "\n",
    "\n",
    "print(mutable_seq[5])\n",
    "mutable_seq[5] = \"C\"\n",
    "print(mutable_seq[5])\n",
    "print(mutable_seq)"
   ]
  },
  {
   "cell_type": "code",
   "execution_count": null,
   "metadata": {},
   "outputs": [
    {
     "data": {
      "text/plain": [
       "MutableSeq('GCCACGTAATGGGCCGCTGAAAGGGTGCCCGA')"
      ]
     },
     "execution_count": 42,
     "metadata": {},
     "output_type": "execute_result"
    }
   ],
   "source": [
    "# T 을 제거\n",
    "mutable_seq.remove(\"T\")\n",
    "mutable_seq"
   ]
  },
  {
   "cell_type": "code",
   "execution_count": null,
   "metadata": {},
   "outputs": [
    {
     "data": {
      "text/plain": [
       "MutableSeq('AGCCCGTGGGAAAGTCGCCGGGTAATGCACCG')"
      ]
     },
     "execution_count": 43,
     "metadata": {},
     "output_type": "execute_result"
    }
   ],
   "source": [
    "# 순서를 반대로 만들기\n",
    "mutable_seq.reverse()\n",
    "mutable_seq"
   ]
  },
  {
   "cell_type": "code",
   "execution_count": null,
   "metadata": {},
   "outputs": [
    {
     "data": {
      "text/plain": [
       "Seq('AGCCCGTGGGAAAGTCGCCGGGTAATGCACCG')"
      ]
     },
     "execution_count": 44,
     "metadata": {},
     "output_type": "execute_result"
    }
   ],
   "source": [
    "# 편집 후 다시 읽기 전용으로 변경할 수 있다.\n",
    "new_seq = Seq(mutable_seq)\n",
    "new_seq"
   ]
  },
  {
   "cell_type": "markdown",
   "metadata": {},
   "source": [
    "### 하위 시퀀스 찾기\n",
    "시퀀스 객체에는 일반 문자열 객체의 해당 메서드와 동일한 기능을 수행하는 find, rfind, index, rindex 가 있다."
   ]
  },
  {
   "cell_type": "code",
   "execution_count": 45,
   "metadata": {},
   "outputs": [
    {
     "data": {
      "text/plain": [
       "9"
      ]
     },
     "execution_count": 45,
     "metadata": {},
     "output_type": "execute_result"
    }
   ],
   "source": [
    "seq = Seq(\"GCCATTGTAATGGGCCGCTGAAAGGGTGCCCGA\")\n",
    "seq.index(\"ATGGGCCGC\")"
   ]
  },
  {
   "cell_type": "code",
   "execution_count": 46,
   "metadata": {},
   "outputs": [
    {
     "data": {
      "text/plain": [
       "9"
      ]
     },
     "execution_count": 46,
     "metadata": {},
     "output_type": "execute_result"
    }
   ],
   "source": [
    "seq.index(b\"ATGGGCCGC\")"
   ]
  },
  {
   "cell_type": "code",
   "execution_count": 47,
   "metadata": {},
   "outputs": [
    {
     "data": {
      "text/plain": [
       "9"
      ]
     },
     "execution_count": 47,
     "metadata": {},
     "output_type": "execute_result"
    }
   ],
   "source": [
    "seq.index(bytearray(b\"ATGGGCCGC\"))"
   ]
  },
  {
   "cell_type": "code",
   "execution_count": 48,
   "metadata": {},
   "outputs": [
    {
     "data": {
      "text/plain": [
       "9"
      ]
     },
     "execution_count": 48,
     "metadata": {},
     "output_type": "execute_result"
    }
   ],
   "source": [
    "seq.index(Seq(\"ATGGGCCGC\"))"
   ]
  },
  {
   "cell_type": "code",
   "execution_count": 49,
   "metadata": {},
   "outputs": [
    {
     "data": {
      "text/plain": [
       "9"
      ]
     },
     "execution_count": 49,
     "metadata": {},
     "output_type": "execute_result"
    }
   ],
   "source": [
    "seq.index(MutableSeq(\"ATGGGCCGC\"))"
   ]
  },
  {
   "cell_type": "code",
   "execution_count": 50,
   "metadata": {},
   "outputs": [
    {
     "ename": "ValueError",
     "evalue": "subsection not found",
     "output_type": "error",
     "traceback": [
      "\u001b[0;31m---------------------------------------------------------------------------\u001b[0m",
      "\u001b[0;31mValueError\u001b[0m                                Traceback (most recent call last)",
      "Cell \u001b[0;32mIn[50], line 1\u001b[0m\n\u001b[0;32m----> 1\u001b[0m \u001b[43mseq\u001b[49m\u001b[38;5;241;43m.\u001b[39;49m\u001b[43mindex\u001b[49m\u001b[43m(\u001b[49m\u001b[38;5;124;43m\"\u001b[39;49m\u001b[38;5;124;43mACTG\u001b[39;49m\u001b[38;5;124;43m\"\u001b[39;49m\u001b[43m)\u001b[49m\n",
      "File \u001b[0;32m~/opt/anaconda3/envs/myenv/lib/python3.8/site-packages/Bio/Seq.py:912\u001b[0m, in \u001b[0;36m_SeqAbstractBaseClass.index\u001b[0;34m(self, sub, start, end)\u001b[0m\n\u001b[1;32m    907\u001b[0m \u001b[38;5;28;01melif\u001b[39;00m \u001b[38;5;129;01mnot\u001b[39;00m \u001b[38;5;28misinstance\u001b[39m(sub, (\u001b[38;5;28mbytes\u001b[39m, \u001b[38;5;28mbytearray\u001b[39m)):\n\u001b[1;32m    908\u001b[0m     \u001b[38;5;28;01mraise\u001b[39;00m \u001b[38;5;167;01mTypeError\u001b[39;00m(\n\u001b[1;32m    909\u001b[0m         \u001b[38;5;124m\"\u001b[39m\u001b[38;5;124ma Seq, MutableSeq, str, bytes, or bytearray object is required, not \u001b[39m\u001b[38;5;124m'\u001b[39m\u001b[38;5;132;01m%s\u001b[39;00m\u001b[38;5;124m'\u001b[39m\u001b[38;5;124m\"\u001b[39m\n\u001b[1;32m    910\u001b[0m         \u001b[38;5;241m%\u001b[39m \u001b[38;5;28mtype\u001b[39m(sub)\n\u001b[1;32m    911\u001b[0m     )\n\u001b[0;32m--> 912\u001b[0m \u001b[38;5;28;01mreturn\u001b[39;00m \u001b[38;5;28;43mself\u001b[39;49m\u001b[38;5;241;43m.\u001b[39;49m\u001b[43m_data\u001b[49m\u001b[38;5;241;43m.\u001b[39;49m\u001b[43mindex\u001b[49m\u001b[43m(\u001b[49m\u001b[43msub\u001b[49m\u001b[43m,\u001b[49m\u001b[43m \u001b[49m\u001b[43mstart\u001b[49m\u001b[43m,\u001b[49m\u001b[43m \u001b[49m\u001b[43mend\u001b[49m\u001b[43m)\u001b[49m\n",
      "\u001b[0;31mValueError\u001b[0m: subsection not found"
     ]
    }
   ],
   "source": [
    "seq.index(\"ACTG\")"
   ]
  },
  {
   "cell_type": "code",
   "execution_count": null,
   "metadata": {},
   "outputs": [
    {
     "data": {
      "text/plain": [
       "-1"
      ]
     },
     "execution_count": 51,
     "metadata": {},
     "output_type": "execute_result"
    }
   ],
   "source": [
    "seq.find(\"ACTG\")\n",
    "# 발견되지 않으면 -1 을 반환"
   ]
  },
  {
   "cell_type": "code",
   "execution_count": 52,
   "metadata": {},
   "outputs": [
    {
     "data": {
      "text/plain": [
       "1"
      ]
     },
     "execution_count": 52,
     "metadata": {},
     "output_type": "execute_result"
    }
   ],
   "source": [
    "seq.find(\"CC\")"
   ]
  },
  {
   "cell_type": "code",
   "execution_count": null,
   "metadata": {},
   "outputs": [
    {
     "data": {
      "text/plain": [
       "29"
      ]
     },
     "execution_count": 53,
     "metadata": {},
     "output_type": "execute_result"
    }
   ],
   "source": [
    "# 오르쪽에서부터 시작하여 검색\n",
    "seq.rfind(\"CC\")"
   ]
  },
  {
   "cell_type": "code",
   "execution_count": 54,
   "metadata": {},
   "outputs": [
    {
     "name": "stdout",
     "output_type": "stream",
     "text": [
      "1 CC\n",
      "11 GGG\n",
      "14 CC\n",
      "23 GGG\n",
      "28 CC\n",
      "29 CC\n"
     ]
    }
   ],
   "source": [
    "for index, sub in seq.search([\"CC\", \"GGG\", \"CC\"]):\n",
    "    print(index, sub)"
   ]
  },
  {
   "cell_type": "markdown",
   "metadata": {},
   "source": [
    "### 문자열을 직접 작업하기\n",
    "시퀀스 객체를 사용하고 싶지 않은 경우는 python 문자열, 객체 또는 객체를 허용하는 묘듈 함수를 사용한다."
   ]
  },
  {
   "cell_type": "code",
   "execution_count": 55,
   "metadata": {},
   "outputs": [],
   "source": [
    "from Bio.Seq import reverse_complement, transcribe, back_transcribe, translate\n",
    "my_string = \"GCTGTTATGGGTCGTTGGAAGGGTGGTCGTGCTGCTGGTTAG\""
   ]
  },
  {
   "cell_type": "code",
   "execution_count": 56,
   "metadata": {},
   "outputs": [
    {
     "data": {
      "text/plain": [
       "'CTAACCAGCAGCACGACCACCCTTCCAACGACCCATAACAGC'"
      ]
     },
     "execution_count": 56,
     "metadata": {},
     "output_type": "execute_result"
    }
   ],
   "source": [
    "reverse_complement(my_string)"
   ]
  },
  {
   "cell_type": "code",
   "execution_count": 57,
   "metadata": {},
   "outputs": [
    {
     "data": {
      "text/plain": [
       "'GCUGUUAUGGGUCGUUGGAAGGGUGGUCGUGCUGCUGGUUAG'"
      ]
     },
     "execution_count": 57,
     "metadata": {},
     "output_type": "execute_result"
    }
   ],
   "source": [
    "transcribe(my_string)"
   ]
  },
  {
   "cell_type": "code",
   "execution_count": 58,
   "metadata": {},
   "outputs": [
    {
     "data": {
      "text/plain": [
       "'GCTGTTATGGGTCGTTGGAAGGGTGGTCGTGCTGCTGGTTAG'"
      ]
     },
     "execution_count": 58,
     "metadata": {},
     "output_type": "execute_result"
    }
   ],
   "source": [
    "back_transcribe(my_string)"
   ]
  },
  {
   "cell_type": "code",
   "execution_count": 59,
   "metadata": {},
   "outputs": [
    {
     "data": {
      "text/plain": [
       "'AVMGRWKGGRAAG*'"
      ]
     },
     "execution_count": 59,
     "metadata": {},
     "output_type": "execute_result"
    }
   ],
   "source": [
    "translate(my_string)"
   ]
  }
 ],
 "metadata": {
  "kernelspec": {
   "display_name": "myenv",
   "language": "python",
   "name": "python3"
  },
  "language_info": {
   "codemirror_mode": {
    "name": "ipython",
    "version": 3
   },
   "file_extension": ".py",
   "mimetype": "text/x-python",
   "name": "python",
   "nbconvert_exporter": "python",
   "pygments_lexer": "ipython3",
   "version": "3.8.20"
  }
 },
 "nbformat": 4,
 "nbformat_minor": 2
}
