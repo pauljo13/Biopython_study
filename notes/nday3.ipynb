{
 "cells": [
  {
   "cell_type": "markdown",
   "metadata": {},
   "source": [
    "# Introduction to Python part 3\n",
    "#### Useful functions in list\n",
    "sort - list.sort(key-..., reverse=...)\n"
   ]
  },
  {
   "cell_type": "code",
   "execution_count": 1,
   "metadata": {},
   "outputs": [
    {
     "name": "stdout",
     "output_type": "stream",
     "text": [
      "['A', 'C', 'G', 'T']\n"
     ]
    }
   ],
   "source": [
    "a = \"A T C G\".split(\" \")\n",
    "a.sort()\n",
    "print(a)"
   ]
  },
  {
   "cell_type": "code",
   "execution_count": 2,
   "metadata": {},
   "outputs": [
    {
     "name": "stdout",
     "output_type": "stream",
     "text": [
      "['T', 'G', 'C', 'A']\n"
     ]
    }
   ],
   "source": [
    "a.sort(reverse=True)\n",
    "print(a)"
   ]
  },
  {
   "cell_type": "code",
   "execution_count": 3,
   "metadata": {},
   "outputs": [
    {
     "name": "stdout",
     "output_type": "stream",
     "text": [
      "['9', '87', '654', '3210']\n",
      "['3210', '654', '87', '9']\n",
      "['9', '87', '654', '3210']\n",
      "['9', '87', '654', '3210']\n",
      "['9', '87', '654', '3210']\n"
     ]
    }
   ],
   "source": [
    "a = ['9', '87', '654', '3210']\n",
    "print(a)\n",
    "print(sorted(a))\n",
    "print(sorted(a, reverse=True))\n",
    "print(sorted(a, key=len))\n",
    "print(a)"
   ]
  },
  {
   "cell_type": "code",
   "execution_count": 6,
   "metadata": {},
   "outputs": [
    {
     "name": "stdout",
     "output_type": "stream",
     "text": [
      "['G', 'C', 'T', 'A']\n",
      "['G', 'C', 'T', 'A']\n",
      "['A', 'T', 'C', 'G']\n"
     ]
    }
   ],
   "source": [
    "# Reverse - list.reverse()\n",
    "a = \"A,T,C,G\".split(',')\n",
    "a.reverse()\n",
    "print(a)\n",
    "a = \"A,T,C,G\".split(',')\n",
    "print(a[::-1])\n",
    "print(a)"
   ]
  },
  {
   "cell_type": "code",
   "execution_count": 7,
   "metadata": {},
   "outputs": [
    {
     "name": "stdout",
     "output_type": "stream",
     "text": [
      "['A', 'T', 'C', 'G']\n",
      "0\n",
      "0\n",
      "['A', 'T', 'C', 'G', 'A', ['N']]\n"
     ]
    },
    {
     "ename": "ValueError",
     "evalue": "'N' is not in list",
     "output_type": "error",
     "traceback": [
      "\u001b[0;31m---------------------------------------------------------------------------\u001b[0m",
      "\u001b[0;31mValueError\u001b[0m                                Traceback (most recent call last)",
      "Cell \u001b[0;32mIn[7], line 8\u001b[0m\n\u001b[1;32m      6\u001b[0m a\u001b[38;5;241m.\u001b[39mappend([\u001b[38;5;124m'\u001b[39m\u001b[38;5;124mN\u001b[39m\u001b[38;5;124m'\u001b[39m])\n\u001b[1;32m      7\u001b[0m \u001b[38;5;28mprint\u001b[39m(a)\n\u001b[0;32m----> 8\u001b[0m \u001b[38;5;28mprint\u001b[39m(\u001b[43ma\u001b[49m\u001b[38;5;241;43m.\u001b[39;49m\u001b[43mindex\u001b[49m\u001b[43m(\u001b[49m\u001b[38;5;124;43m'\u001b[39;49m\u001b[38;5;124;43mN\u001b[39;49m\u001b[38;5;124;43m'\u001b[39;49m\u001b[43m)\u001b[49m)\n\u001b[1;32m      9\u001b[0m \u001b[38;5;28mprint\u001b[39m(a\u001b[38;5;241m.\u001b[39mindex([\u001b[38;5;124m'\u001b[39m\u001b[38;5;124mN\u001b[39m\u001b[38;5;124m'\u001b[39m]))\n",
      "\u001b[0;31mValueError\u001b[0m: 'N' is not in list"
     ]
    }
   ],
   "source": [
    "# index - list.index(element, start, end)\n",
    "print(a)\n",
    "print(a.index('A'))\n",
    "a.append('A')\n",
    "print(a.index('A'))\n",
    "a.append(['N'])\n",
    "print(a)\n",
    "print(a.index('N'))\n",
    "print(a.index(['N']))"
   ]
  },
  {
   "cell_type": "code",
   "execution_count": 11,
   "metadata": {},
   "outputs": [
    {
     "name": "stdout",
     "output_type": "stream",
     "text": [
      "[0, 1, 2, 3]\n",
      "[0, 1, 2, 3, -1]\n",
      "[-1, 0, 1, 2, 3, -1]\n",
      "[-1, 0, 0.5, 1, 2, 3, -1]\n"
     ]
    }
   ],
   "source": [
    "# insert - list.insert(index, item)\n",
    "a = [i for i in range(0,4)]\n",
    "print(a)\n",
    "a.append(-1)\n",
    "print(a)\n",
    "a.insert(0, -1)\n",
    "print(a)\n",
    "a.insert(2,.5)\n",
    "print(a)"
   ]
  },
  {
   "cell_type": "code",
   "execution_count": 12,
   "metadata": {},
   "outputs": [
    {
     "name": "stdout",
     "output_type": "stream",
     "text": [
      "[-1, 0, 0.5, 1, 2, 3, -1]\n",
      "[0, 0.5, 1, 2, 3, -1]\n",
      "[-1, 0, 0.5, 1, 2, 3, -1]\n",
      "[0, 0.5, 1, 2, 3, -1]\n",
      "[0, 0.5, 1, 2, 3]\n"
     ]
    },
    {
     "ename": "ValueError",
     "evalue": "list.remove(x): x not in list",
     "output_type": "error",
     "traceback": [
      "\u001b[0;31m---------------------------------------------------------------------------\u001b[0m",
      "\u001b[0;31mValueError\u001b[0m                                Traceback (most recent call last)",
      "Cell \u001b[0;32mIn[12], line 11\u001b[0m\n\u001b[1;32m      9\u001b[0m a\u001b[38;5;241m.\u001b[39mremove(\u001b[38;5;241m-\u001b[39m\u001b[38;5;241m1\u001b[39m)\n\u001b[1;32m     10\u001b[0m \u001b[38;5;28mprint\u001b[39m(a)\n\u001b[0;32m---> 11\u001b[0m \u001b[43ma\u001b[49m\u001b[38;5;241;43m.\u001b[39;49m\u001b[43mremove\u001b[49m\u001b[43m(\u001b[49m\u001b[38;5;241;43m4\u001b[39;49m\u001b[43m)\u001b[49m\n",
      "\u001b[0;31mValueError\u001b[0m: list.remove(x): x not in list"
     ]
    }
   ],
   "source": [
    "# Insert - list.remove(element)\n",
    "print(a)\n",
    "del a[0]\n",
    "print(a)\n",
    "a.insert(0,-1)\n",
    "print(a)\n",
    "a.remove(-1)\n",
    "print(a)\n",
    "a.remove(-1)\n",
    "print(a)\n",
    "a.remove(4)\n"
   ]
  },
  {
   "cell_type": "code",
   "execution_count": 14,
   "metadata": {},
   "outputs": [
    {
     "name": "stdout",
     "output_type": "stream",
     "text": [
      "['I', 'do', 'not', 'need', 'to', 'study', 'programming']\n",
      "['I', 'do', 'need', 'to', 'study', 'programming']\n",
      "['I', 'do', 'need', 'to', 'study', 'programming']\n"
     ]
    }
   ],
   "source": [
    "# Quiz\n",
    "a = \"I do not need to study programming\".split(\" \")\n",
    "not_index = a.index(\"not\")\n",
    "print(a)\n",
    "del a[not_index]\n",
    "print(a)\n",
    "a = \"I do not need to study programming\".split(\" \")\n",
    "a.remove(\"not\")\n",
    "print(a)"
   ]
  },
  {
   "cell_type": "code",
   "execution_count": 17,
   "metadata": {},
   "outputs": [
    {
     "name": "stdout",
     "output_type": "stream",
     "text": [
      "4\n",
      "[0, 1, 2, 3]\n",
      "2\n",
      "[0, 1, 3]\n",
      "[0, 3]\n",
      "1\n"
     ]
    }
   ],
   "source": [
    "# pop - list.pop(index)\n",
    "a = [i for i in range(5)]\n",
    "print(a.pop())\n",
    "print(a)\n",
    "print(a.pop(2))\n",
    "print(a)\n",
    "a_idx1 = a.pop(1)\n",
    "print(a)\n",
    "print(a_idx1)"
   ]
  },
  {
   "cell_type": "code",
   "execution_count": 18,
   "metadata": {},
   "outputs": [
    {
     "name": "stdout",
     "output_type": "stream",
     "text": [
      "[0, 1, 2, 3]\n",
      "[1, 2, 3]\n",
      "[1, 2, 3]\n"
     ]
    }
   ],
   "source": [
    "# Copy - list.copy()\n",
    "a = [i for i in range(4)]\n",
    "b = a\n",
    "print(b)\n",
    "a.pop(0)\n",
    "print(a)\n",
    "print(b)\n"
   ]
  },
  {
   "cell_type": "code",
   "execution_count": 19,
   "metadata": {},
   "outputs": [
    {
     "name": "stdout",
     "output_type": "stream",
     "text": [
      "[0, 1, 2, 3]\n",
      "[1, 2, 3]\n",
      "[0, 1, 2, 3]\n"
     ]
    }
   ],
   "source": [
    "a = [i for i in range(4)]\n",
    "b = a.copy()\n",
    "print(b)\n",
    "a.pop(0)\n",
    "print(a)\n",
    "print(b)"
   ]
  },
  {
   "cell_type": "markdown",
   "metadata": {},
   "source": [
    "### Tuple\n",
    "Tuples are basically same with lists, lists, but they are immutable, and defined by ().\n"
   ]
  },
  {
   "cell_type": "code",
   "execution_count": 20,
   "metadata": {},
   "outputs": [
    {
     "name": "stdout",
     "output_type": "stream",
     "text": [
      "()\n",
      "<class 'tuple'>\n",
      "(1, 2, 3)\n",
      "('a', 'b', 'c')\n",
      "('a', 'b', 1, 2)\n",
      "('a', 'b', [1, 2])\n",
      "('a', 'b', [1, 2], (3, 4))\n"
     ]
    }
   ],
   "source": [
    "print(())\n",
    "print(type(()))\n",
    "a = (1, 2, 3)\n",
    "b = ('a', 'b', 'c')\n",
    "print(a)\n",
    "print(b)\n",
    "print(('a', 'b', 1, 2))\n",
    "print(('a', 'b',[1,2]))\n",
    "print(('a', 'b',[1,2],(3,4)))"
   ]
  },
  {
   "cell_type": "code",
   "execution_count": 24,
   "metadata": {},
   "outputs": [
    {
     "name": "stdout",
     "output_type": "stream",
     "text": [
      "('this', 'is', 'a', 'tuple', 'not', 'list')\n",
      "this\n",
      "('a', 'tuple', 'not', 'list')\n",
      "list\n"
     ]
    },
    {
     "ename": "TypeError",
     "evalue": "'tuple' object does not support item assignment",
     "output_type": "error",
     "traceback": [
      "\u001b[0;31m---------------------------------------------------------------------------\u001b[0m",
      "\u001b[0;31mTypeError\u001b[0m                                 Traceback (most recent call last)",
      "Cell \u001b[0;32mIn[24], line 7\u001b[0m\n\u001b[1;32m      5\u001b[0m \u001b[38;5;28mprint\u001b[39m(a[\u001b[38;5;241m2\u001b[39m:])\n\u001b[1;32m      6\u001b[0m \u001b[38;5;28mprint\u001b[39m(a[\u001b[38;5;241m-\u001b[39m\u001b[38;5;241m1\u001b[39m])\n\u001b[0;32m----> 7\u001b[0m \u001b[43ma\u001b[49m\u001b[43m[\u001b[49m\u001b[38;5;241;43m-\u001b[39;49m\u001b[38;5;241;43m1\u001b[39;49m\u001b[43m]\u001b[49m \u001b[38;5;241m=\u001b[39m \u001b[38;5;124m\"\u001b[39m\u001b[38;5;124mstring\u001b[39m\u001b[38;5;124m\"\u001b[39m\n\u001b[1;32m      8\u001b[0m a\u001b[38;5;241m.\u001b[39mappend(\u001b[38;5;124m\"\u001b[39m\u001b[38;5;124mstring\u001b[39m\u001b[38;5;124m\"\u001b[39m)\n",
      "\u001b[0;31mTypeError\u001b[0m: 'tuple' object does not support item assignment"
     ]
    }
   ],
   "source": [
    "a = \"this is a tuple not list\".split(\" \")\n",
    "a = tuple(a)\n",
    "print(a)\n",
    "print(a[0])\n",
    "print(a[2:])\n",
    "print(a[-1])\n",
    "a[-1] = \"string\""
   ]
  },
  {
   "cell_type": "code",
   "execution_count": 25,
   "metadata": {},
   "outputs": [
    {
     "ename": "AttributeError",
     "evalue": "'tuple' object has no attribute 'append'",
     "output_type": "error",
     "traceback": [
      "\u001b[0;31m---------------------------------------------------------------------------\u001b[0m",
      "\u001b[0;31mAttributeError\u001b[0m                            Traceback (most recent call last)",
      "Cell \u001b[0;32mIn[25], line 1\u001b[0m\n\u001b[0;32m----> 1\u001b[0m \u001b[43ma\u001b[49m\u001b[38;5;241;43m.\u001b[39;49m\u001b[43mappend\u001b[49m(\u001b[38;5;124m\"\u001b[39m\u001b[38;5;124mstring\u001b[39m\u001b[38;5;124m\"\u001b[39m)\n",
      "\u001b[0;31mAttributeError\u001b[0m: 'tuple' object has no attribute 'append'"
     ]
    }
   ],
   "source": [
    "a.append(\"string\")"
   ]
  },
  {
   "cell_type": "markdown",
   "metadata": {},
   "source": [
    "### Set\n",
    "Set are unique & non-ordered collections of immutable objects. They directly implement the mathematical concept of a set.\n",
    "-> List cannot be included in a set"
   ]
  },
  {
   "cell_type": "code",
   "execution_count": 27,
   "metadata": {},
   "outputs": [
    {
     "name": "stdout",
     "output_type": "stream",
     "text": [
      "[1, 2, 3, 4, 5, 6, 7, 8]\n",
      "{1, 2, 3, 4, 5, 6, 7, 8}\n",
      "[1, 2, 3, 4, 5, 6, 7, 8]\n",
      "{1, 2, 3}\n"
     ]
    }
   ],
   "source": [
    "a = [i for i in range(1,9)]\n",
    "print(a)\n",
    "print(set(a))\n",
    "print(list(set(a)))\n",
    "\n",
    "a = (1, 2, 2, 3)\n",
    "print(set(a))"
   ]
  },
  {
   "cell_type": "code",
   "execution_count": 29,
   "metadata": {},
   "outputs": [
    {
     "name": "stdout",
     "output_type": "stream",
     "text": [
      "{3}\n",
      "{1, 2, 3, 4, 5}\n",
      "{1, 2}\n",
      "{1, 2, 4, 5}\n"
     ]
    }
   ],
   "source": [
    "# To obtain intersect of union of two sets\n",
    "a = set([i for i in range(1,4)])\n",
    "b = set([i for i in range(3,6)])\n",
    "print(a & b)\n",
    "print(a | b)\n",
    "print(a - b)\n",
    "print(a ^ b)"
   ]
  },
  {
   "cell_type": "code",
   "execution_count": 36,
   "metadata": {},
   "outputs": [
    {
     "name": "stdout",
     "output_type": "stream",
     "text": [
      "[2, 4, 6, 8, 10, 12]\n",
      "(3, 6, 9, 12, 15)\n",
      "[6, 12]\n"
     ]
    }
   ],
   "source": [
    "# Quiz \n",
    "a = [i for i in range(2, 13, 2)]\n",
    "b = tuple([i for i in range(3, 16, 3)])\n",
    "c = list(set(a) & set(b))\n",
    "c.sort()\n",
    "print(a)\n",
    "print(b)\n",
    "print(c)\n"
   ]
  },
  {
   "cell_type": "markdown",
   "metadata": {},
   "source": [
    "### Dictionary\n",
    "Dictionaries are unordered containers that provide a mapping association between keys and values(hash). Each key should be unique.\n"
   ]
  },
  {
   "cell_type": "code",
   "execution_count": 38,
   "metadata": {},
   "outputs": [
    {
     "name": "stdout",
     "output_type": "stream",
     "text": [
      "4\n",
      "{'a': 1, 'b': 2, 'c': 3, 'z': 26, 'y': 25}\n",
      "{'a': 1, 'b': 2, 'c': 3, 'z': 26, 'y': 25, 'ab': (1, 2)}\n"
     ]
    },
    {
     "ename": "TypeError",
     "evalue": "unhashable type: 'list'",
     "output_type": "error",
     "traceback": [
      "\u001b[0;31m---------------------------------------------------------------------------\u001b[0m",
      "\u001b[0;31mTypeError\u001b[0m                                 Traceback (most recent call last)",
      "Cell \u001b[0;32mIn[38], line 7\u001b[0m\n\u001b[1;32m      5\u001b[0m dict_a[\u001b[38;5;124m'\u001b[39m\u001b[38;5;124mab\u001b[39m\u001b[38;5;124m'\u001b[39m] \u001b[38;5;241m=\u001b[39m (\u001b[38;5;241m1\u001b[39m,\u001b[38;5;241m2\u001b[39m)\n\u001b[1;32m      6\u001b[0m \u001b[38;5;28mprint\u001b[39m(dict_a)\n\u001b[0;32m----> 7\u001b[0m \u001b[43mdict_a\u001b[49m\u001b[43m[\u001b[49m\u001b[43m[\u001b[49m\u001b[38;5;124;43m'\u001b[39;49m\u001b[38;5;124;43ma\u001b[39;49m\u001b[38;5;124;43m'\u001b[39;49m\u001b[43m,\u001b[49m\u001b[43m \u001b[49m\u001b[38;5;124;43m'\u001b[39;49m\u001b[38;5;124;43mb\u001b[39;49m\u001b[38;5;124;43m'\u001b[39;49m\u001b[43m]\u001b[49m\u001b[43m]\u001b[49m \u001b[38;5;241m=\u001b[39m [\u001b[38;5;241m1\u001b[39m,\u001b[38;5;241m2\u001b[39m]\n",
      "\u001b[0;31mTypeError\u001b[0m: unhashable type: 'list'"
     ]
    }
   ],
   "source": [
    "dict_a = {'a': 1, 'b': 2, 'c': 3, \"z\": 26}\n",
    "print(len(dict_a))\n",
    "dict_a['y'] = 25\n",
    "print(dict_a)\n",
    "dict_a['ab'] = (1,2)\n",
    "print(dict_a)\n",
    "dict_a[['a', 'b']] = [1,2]"
   ]
  },
  {
   "cell_type": "code",
   "execution_count": 40,
   "metadata": {},
   "outputs": [
    {
     "name": "stdout",
     "output_type": "stream",
     "text": [
      "{'a': 1, 'b': 2, 'c': 3, 'z': 26, 'y': 25, 'ab': (1, 2), ('a', 'b'): [1, 2]}\n",
      "{'b': 2, 'c': 3, 'z': 26, 'y': 25, 'ab': (1, 2), ('a', 'b'): [1, 2]}\n"
     ]
    }
   ],
   "source": [
    "dict_a[('a', 'b')] = [1, 2]\n",
    "print(dict_a)\n",
    "del dict_a['a']\n",
    "print(dict_a)"
   ]
  },
  {
   "cell_type": "code",
   "execution_count": 41,
   "metadata": {},
   "outputs": [
    {
     "name": "stdout",
     "output_type": "stream",
     "text": [
      "one\n"
     ]
    },
    {
     "ename": "KeyError",
     "evalue": "'1'",
     "output_type": "error",
     "traceback": [
      "\u001b[0;31m---------------------------------------------------------------------------\u001b[0m",
      "\u001b[0;31mKeyError\u001b[0m                                  Traceback (most recent call last)",
      "Cell \u001b[0;32mIn[41], line 4\u001b[0m\n\u001b[1;32m      2\u001b[0m a \u001b[38;5;241m=\u001b[39m {\u001b[38;5;241m1\u001b[39m: \u001b[38;5;124m'\u001b[39m\u001b[38;5;124mone\u001b[39m\u001b[38;5;124m'\u001b[39m, \u001b[38;5;241m2\u001b[39m: \u001b[38;5;124m'\u001b[39m\u001b[38;5;124mtwo\u001b[39m\u001b[38;5;124m'\u001b[39m, \u001b[38;5;241m3\u001b[39m: \u001b[38;5;124m'\u001b[39m\u001b[38;5;124mthree\u001b[39m\u001b[38;5;124m'\u001b[39m}\n\u001b[1;32m      3\u001b[0m \u001b[38;5;28mprint\u001b[39m(a[\u001b[38;5;241m1\u001b[39m])\n\u001b[0;32m----> 4\u001b[0m \u001b[38;5;28mprint\u001b[39m(\u001b[43ma\u001b[49m\u001b[43m[\u001b[49m\u001b[38;5;124;43m'\u001b[39;49m\u001b[38;5;124;43m1\u001b[39;49m\u001b[38;5;124;43m'\u001b[39;49m\u001b[43m]\u001b[49m)\n",
      "\u001b[0;31mKeyError\u001b[0m: '1'"
     ]
    }
   ],
   "source": [
    "# Get value using key in dictionary\n",
    "a = {1: 'one', 2: 'two', 3: 'three'}\n",
    "print(a[1])\n",
    "print(a['1'])"
   ]
  },
  {
   "cell_type": "code",
   "execution_count": 43,
   "metadata": {},
   "outputs": [
    {
     "name": "stdout",
     "output_type": "stream",
     "text": [
      "one\n",
      "no such key in this dictionary\n"
     ]
    }
   ],
   "source": [
    "# dict.get(key, value)\n",
    "print(a.get(1))\n",
    "print(a.get('1', 'no such key in this dictionary'))"
   ]
  },
  {
   "cell_type": "code",
   "execution_count": 44,
   "metadata": {},
   "outputs": [
    {
     "name": "stdout",
     "output_type": "stream",
     "text": [
      "dict_keys([1, 2, 3])\n",
      "[1, 2, 3]\n"
     ]
    }
   ],
   "source": [
    "# dict.keys()\n",
    "a = {1: 'one', 2: 'two', 3: 'three'}\n",
    "print(a.keys())\n",
    "a_key_list = list(a.keys())\n",
    "print(a_key_list)"
   ]
  },
  {
   "cell_type": "code",
   "execution_count": null,
   "metadata": {},
   "outputs": [],
   "source": [
    "# dict.values()\n"
   ]
  }
 ],
 "metadata": {
  "kernelspec": {
   "display_name": "myenv",
   "language": "python",
   "name": "python3"
  },
  "language_info": {
   "codemirror_mode": {
    "name": "ipython",
    "version": 3
   },
   "file_extension": ".py",
   "mimetype": "text/x-python",
   "name": "python",
   "nbconvert_exporter": "python",
   "pygments_lexer": "ipython3",
   "version": "3.8.20"
  }
 },
 "nbformat": 4,
 "nbformat_minor": 2
}
