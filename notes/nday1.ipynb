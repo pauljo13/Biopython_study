{
 "cells": [
  {
   "cell_type": "markdown",
   "metadata": {},
   "source": [
    "# Introduction to Python\n",
    "Python : created by in the early 1990s Guido van Rossum in Amsterdam.\n",
    "    \"A high-level scripting language that allows for interactivity\"\n",
    "\n",
    "Python is an interpreted language that can be run both in script of in interactive mode.\n",
    "\n",
    "### Features od Python\n",
    "- Concise an clear syntax\n",
    "- Code indentation\n",
    "- Set of high-level and powerful data types\n",
    "- Simple, but effective, approach to object-oriented programming\n",
    "- Modularity\n"
   ]
  },
  {
   "cell_type": "markdown",
   "metadata": {},
   "source": [
    "##"
   ]
  },
  {
   "cell_type": "markdown",
   "metadata": {},
   "source": [
    "### Data types in Python\n",
    "| Data type   | Complexity | Order | Mutable | Indexed | Heterogeneous |\n",
    "|-------------|------------|-------|---------|---------|---------------|\n",
    "| int         | primitive  | -     | yes     | -       | -             |\n",
    "| float       | primitive  | -     | yes     | -       | -             |\n",
    "| complex     | primitive  | -     | yes     | -       | -             |\n",
    "| Boolean     | primitive  | -     | yes     | -       | -             |\n",
    "| string      | container  | yes   | no      | yes     | no            |\n",
    "| list        | container  | yes   | yes     | yes     | yes           |\n",
    "| tuple       | container  | yes   | no      | yes     | yes           |\n",
    "| set         | container  | no    | yes     | no      | yes           |\n",
    "| dictionary  | container  | no    | yes     | no      | yes           |\n"
   ]
  },
  {
   "cell_type": "code",
   "execution_count": 1,
   "metadata": {},
   "outputs": [
    {
     "data": {
      "text/plain": [
       "3"
      ]
     },
     "execution_count": 1,
     "metadata": {},
     "output_type": "execute_result"
    }
   ],
   "source": [
    "### Types of operators\n",
    "1 + 2"
   ]
  },
  {
   "cell_type": "markdown",
   "metadata": {},
   "source": []
  }
 ],
 "metadata": {
  "kernelspec": {
   "display_name": "myenv",
   "language": "python",
   "name": "python3"
  },
  "language_info": {
   "codemirror_mode": {
    "name": "ipython",
    "version": 3
   },
   "file_extension": ".py",
   "mimetype": "text/x-python",
   "name": "python",
   "nbconvert_exporter": "python",
   "pygments_lexer": "ipython3",
   "version": "3.8.20"
  }
 },
 "nbformat": 4,
 "nbformat_minor": 2
}
