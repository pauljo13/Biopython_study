{
 "cells": [
  {
   "cell_type": "markdown",
   "metadata": {},
   "source": [
    "# Introduction to Python\n",
    "Python : created by in the early 1990s Guido van Rossum in Amsterdam.\n",
    "    \"A high-level scripting language that allows for interactivity\"\n",
    "\n",
    "Python is an interpreted language that can be run both in script of in interactive mode.\n",
    "\n",
    "### Features od Python\n",
    "- Concise an clear syntax\n",
    "- Code indentation\n",
    "- Set of high-level and powerful data types\n",
    "- Simple, but effective, approach to object-oriented programming\n",
    "- Modularity\n"
   ]
  },
  {
   "cell_type": "markdown",
   "metadata": {},
   "source": [
    "##"
   ]
  },
  {
   "cell_type": "markdown",
   "metadata": {},
   "source": [
    "### Data types in Python\n",
    "| Data type   | Complexity | Order | Mutable | Indexed | Heterogeneous |\n",
    "|-------------|------------|-------|---------|---------|---------------|\n",
    "| int         | primitive  | -     | yes     | -       | -             |\n",
    "| float       | primitive  | -     | yes     | -       | -             |\n",
    "| complex     | primitive  | -     | yes     | -       | -             |\n",
    "| Boolean     | primitive  | -     | yes     | -       | -             |\n",
    "| string      | container  | yes   | no      | yes     | no            |\n",
    "| list        | container  | yes   | yes     | yes     | yes           |\n",
    "| tuple       | container  | yes   | no      | yes     | yes           |\n",
    "| set         | container  | no    | yes     | no      | yes           |\n",
    "| dictionary  | container  | no    | yes     | no      | yes           |\n"
   ]
  },
  {
   "cell_type": "code",
   "execution_count": 7,
   "metadata": {},
   "outputs": [
    {
     "name": "stdout",
     "output_type": "stream",
     "text": [
      "3\n",
      "-2\n",
      "12\n",
      "1.3333333333333333\n",
      "16\n",
      "1\n",
      "2\n"
     ]
    }
   ],
   "source": [
    "# Types of operators\n",
    "# sum\n",
    "print(1 + 2)\n",
    "\n",
    "# difference\n",
    "print(2 - 4)\n",
    "\n",
    "# multiplication\n",
    "print(3 * 4)\n",
    "\n",
    "# division\n",
    "print(4 / 3)\n",
    "\n",
    "# exponentiation\n",
    "print(2 ** 4)\n",
    "\n",
    "# integer division\n",
    "print(4 // 3)\n",
    "\n",
    "# remainder of the integer division\n",
    "print(5 % 3)"
   ]
  },
  {
   "cell_type": "markdown",
   "metadata": {},
   "source": [
    "### Mathematical and Character Functions\n",
    "\n",
    "- **abs(x)**: absolute value of `x`\n",
    "- **round(x, n)**: `x` rounded to a precision of `n` places\n",
    "- **pow(x, y)**: `x` raised to power of `y`\n",
    "- **ord(c)**: ASCII numerical code for character `c`\n",
    "- **chr(x)**: ASCII string (with a single character) for numerical code `x`\n"
   ]
  },
  {
   "cell_type": "code",
   "execution_count": 11,
   "metadata": {},
   "outputs": [
    {
     "name": "stdout",
     "output_type": "stream",
     "text": [
      "abs(-3) : 3\n",
      "round(3.4) : 3\n",
      "round(3.6) : 4\n",
      "pow(2, 4) : 16\n",
      "int(3.4) : 3\n",
      "float(3) : 3.0\n"
     ]
    }
   ],
   "source": [
    "# Mathematical functions\n",
    "\n",
    "print(\"abs(-3) :\", abs(-3))\n",
    "print(\"round(3.4) :\", round(3.4))\n",
    "print(\"round(3.6) :\", round(3.6))\n",
    "print(\"pow(2, 4) :\", pow(2, 4))\n",
    "print(\"int(3.4) :\", int(3.4))\n",
    "print(\"float(3) :\", float(3))"
   ]
  },
  {
   "cell_type": "code",
   "execution_count": 12,
   "metadata": {},
   "outputs": [],
   "source": [
    "# Module math\n",
    "import math"
   ]
  },
  {
   "cell_type": "code",
   "execution_count": 13,
   "metadata": {},
   "outputs": [
    {
     "data": {
      "text/plain": [
       "4.0"
      ]
     },
     "execution_count": 13,
     "metadata": {},
     "output_type": "execute_result"
    }
   ],
   "source": [
    "math.sqrt(16)"
   ]
  },
  {
   "cell_type": "code",
   "execution_count": 14,
   "metadata": {},
   "outputs": [
    {
     "data": {
      "text/plain": [
       "2.302585092994046"
      ]
     },
     "execution_count": 14,
     "metadata": {},
     "output_type": "execute_result"
    }
   ],
   "source": [
    "math.log(10)"
   ]
  },
  {
   "cell_type": "code",
   "execution_count": 15,
   "metadata": {},
   "outputs": [
    {
     "data": {
      "text/plain": [
       "1.0"
      ]
     },
     "execution_count": 15,
     "metadata": {},
     "output_type": "execute_result"
    }
   ],
   "source": [
    "math.log10(10)"
   ]
  },
  {
   "cell_type": "code",
   "execution_count": 16,
   "metadata": {},
   "outputs": [
    {
     "data": {
      "text/plain": [
       "3.321928094887362"
      ]
     },
     "execution_count": 16,
     "metadata": {},
     "output_type": "execute_result"
    }
   ],
   "source": [
    "math.log2(10)"
   ]
  },
  {
   "cell_type": "code",
   "execution_count": 22,
   "metadata": {},
   "outputs": [
    {
     "name": "stdout",
     "output_type": "stream",
     "text": [
      "2.0 \n",
      " 1.0\n"
     ]
    }
   ],
   "source": [
    "# Quiz\n",
    "print(math.log2(128) // 3,\"\\n\",math.log2(128) % 3)"
   ]
  },
  {
   "cell_type": "markdown",
   "metadata": {},
   "source": [
    "### Assigning values to variables\n",
    "Operator \"=\" is used to assign a value to a variable name."
   ]
  },
  {
   "cell_type": "code",
   "execution_count": 23,
   "metadata": {},
   "outputs": [
    {
     "name": "stdout",
     "output_type": "stream",
     "text": [
      "3\n"
     ]
    }
   ],
   "source": [
    "a = 1\n",
    "b = 2\n",
    "print(a + b)"
   ]
  },
  {
   "cell_type": "code",
   "execution_count": 24,
   "metadata": {},
   "outputs": [
    {
     "name": "stdout",
     "output_type": "stream",
     "text": [
      "1.0\n"
     ]
    }
   ],
   "source": [
    "a = math.log2(16)\n",
    "b = round(3.6)\n",
    "print(a / b)"
   ]
  },
  {
   "cell_type": "code",
   "execution_count": 26,
   "metadata": {},
   "outputs": [
    {
     "name": "stdout",
     "output_type": "stream",
     "text": [
      "a :  <class 'int'>\n",
      "b :  <class 'float'>\n"
     ]
    }
   ],
   "source": [
    "a = 3\n",
    "b = float(a)\n",
    "print(\"a : \", type(a))\n",
    "print(\"b : \", type(b))"
   ]
  },
  {
   "cell_type": "code",
   "execution_count": 31,
   "metadata": {},
   "outputs": [
    {
     "name": "stdout",
     "output_type": "stream",
     "text": [
      "2\n",
      "2\n",
      "2\n",
      "3\n",
      "3\n",
      "3\n",
      "1\n",
      "2\n",
      "3\n"
     ]
    }
   ],
   "source": [
    "a = 2\n",
    "b = 2\n",
    "c = 2\n",
    "li = [a, b, c]\n",
    "for i in li:\n",
    "    print(i)\n",
    "\n",
    "a = b = c = 3\n",
    "li = [a, b, c]\n",
    "for i in li:\n",
    "    print(i)\n",
    "    \n",
    "a, b, c = 1, 2, 3\n",
    "li = [a, b, c]\n",
    "for i in li:\n",
    "    print(i)"
   ]
  },
  {
   "cell_type": "code",
   "execution_count": 33,
   "metadata": {},
   "outputs": [
    {
     "name": "stdout",
     "output_type": "stream",
     "text": [
      "a : 7.0 / b : 8.0\n",
      "c : 56.0\n"
     ]
    }
   ],
   "source": [
    "# Quiz\n",
    "a, b = math.log2(128), math.log2(256)\n",
    "print(\"a :\", a, \"/ b :\", b)\n",
    "c = a * b\n",
    "print(\"c :\", c)"
   ]
  },
  {
   "cell_type": "markdown",
   "metadata": {},
   "source": [
    "### Testing two variables equality\n",
    "== : for a comparison between two variables, testing their equality\n",
    "\n",
    "Result : Boolean type"
   ]
  },
  {
   "cell_type": "code",
   "execution_count": 34,
   "metadata": {},
   "outputs": [
    {
     "data": {
      "text/plain": [
       "True"
      ]
     },
     "execution_count": 34,
     "metadata": {},
     "output_type": "execute_result"
    }
   ],
   "source": [
    "a = 1\n",
    "a == 1"
   ]
  },
  {
   "cell_type": "code",
   "execution_count": 35,
   "metadata": {},
   "outputs": [
    {
     "data": {
      "text/plain": [
       "True"
      ]
     },
     "execution_count": 35,
     "metadata": {},
     "output_type": "execute_result"
    }
   ],
   "source": [
    "a = b = 2\n",
    "a == b"
   ]
  },
  {
   "cell_type": "code",
   "execution_count": 36,
   "metadata": {},
   "outputs": [
    {
     "data": {
      "text/plain": [
       "True"
      ]
     },
     "execution_count": 36,
     "metadata": {},
     "output_type": "execute_result"
    }
   ],
   "source": [
    "c = 3\n",
    "a == b"
   ]
  },
  {
   "cell_type": "code",
   "execution_count": 37,
   "metadata": {},
   "outputs": [
    {
     "data": {
      "text/plain": [
       "False"
      ]
     },
     "execution_count": 37,
     "metadata": {},
     "output_type": "execute_result"
    }
   ],
   "source": [
    "a == b == c"
   ]
  },
  {
   "cell_type": "code",
   "execution_count": 38,
   "metadata": {},
   "outputs": [
    {
     "data": {
      "text/plain": [
       "False"
      ]
     },
     "execution_count": 38,
     "metadata": {},
     "output_type": "execute_result"
    }
   ],
   "source": [
    "b == c"
   ]
  },
  {
   "cell_type": "code",
   "execution_count": 39,
   "metadata": {},
   "outputs": [
    {
     "data": {
      "text/plain": [
       "True"
      ]
     },
     "execution_count": 39,
     "metadata": {},
     "output_type": "execute_result"
    }
   ],
   "source": [
    "a == b != c"
   ]
  },
  {
   "cell_type": "code",
   "execution_count": 41,
   "metadata": {},
   "outputs": [
    {
     "name": "stdout",
     "output_type": "stream",
     "text": [
      "True\n",
      "True\n",
      "True\n"
     ]
    }
   ],
   "source": [
    "# Quiz\n",
    "print(2**3 == 8)\n",
    "print(pow(2,3) == 8)\n",
    "print(math.pow(2,3) == 8)\n"
   ]
  },
  {
   "cell_type": "code",
   "execution_count": 42,
   "metadata": {},
   "outputs": [
    {
     "data": {
      "text/plain": [
       "3"
      ]
     },
     "execution_count": 42,
     "metadata": {},
     "output_type": "execute_result"
    }
   ],
   "source": [
    "# Other operators\n",
    "\"+= equals to x = x + y\"\n",
    "a = 1\n",
    "a = a + 2\n",
    "a"
   ]
  },
  {
   "cell_type": "code",
   "execution_count": 43,
   "metadata": {},
   "outputs": [
    {
     "data": {
      "text/plain": [
       "3"
      ]
     },
     "execution_count": 43,
     "metadata": {},
     "output_type": "execute_result"
    }
   ],
   "source": [
    "a = 1\n",
    "a += 2\n",
    "a"
   ]
  },
  {
   "cell_type": "code",
   "execution_count": 44,
   "metadata": {},
   "outputs": [
    {
     "data": {
      "text/plain": [
       "1"
      ]
     },
     "execution_count": 44,
     "metadata": {},
     "output_type": "execute_result"
    }
   ],
   "source": [
    "a = 2 \n",
    "a = a - 1\n",
    "a "
   ]
  },
  {
   "cell_type": "code",
   "execution_count": 45,
   "metadata": {},
   "outputs": [
    {
     "data": {
      "text/plain": [
       "1"
      ]
     },
     "execution_count": 45,
     "metadata": {},
     "output_type": "execute_result"
    }
   ],
   "source": [
    "a = 2\n",
    "a -= 1\n",
    "a"
   ]
  },
  {
   "cell_type": "code",
   "execution_count": 47,
   "metadata": {},
   "outputs": [
    {
     "data": {
      "text/plain": [
       "9"
      ]
     },
     "execution_count": 47,
     "metadata": {},
     "output_type": "execute_result"
    }
   ],
   "source": [
    "a *= 3\n",
    "a"
   ]
  },
  {
   "cell_type": "code",
   "execution_count": 48,
   "metadata": {},
   "outputs": [
    {
     "data": {
      "text/plain": [
       "3.0"
      ]
     },
     "execution_count": 48,
     "metadata": {},
     "output_type": "execute_result"
    }
   ],
   "source": [
    "a /= 3\n",
    "a"
   ]
  },
  {
   "cell_type": "markdown",
   "metadata": {},
   "source": [
    "### String\n",
    "String are sequences of characters, which can be defined by text enclosed by the characters \"\" or ''\n"
   ]
  },
  {
   "cell_type": "code",
   "execution_count": 49,
   "metadata": {},
   "outputs": [
    {
     "data": {
      "text/plain": [
       "'This \\nis\\na\\nstring'"
      ]
     },
     "execution_count": 49,
     "metadata": {},
     "output_type": "execute_result"
    }
   ],
   "source": [
    "'''This \n",
    "is\n",
    "a\n",
    "string'''"
   ]
  },
  {
   "cell_type": "code",
   "execution_count": 50,
   "metadata": {},
   "outputs": [
    {
     "data": {
      "text/plain": [
       "'This \\nis\\na\\nstring'"
      ]
     },
     "execution_count": 50,
     "metadata": {},
     "output_type": "execute_result"
    }
   ],
   "source": [
    "\"\"\"This \n",
    "is\n",
    "a\n",
    "string\"\"\""
   ]
  },
  {
   "cell_type": "code",
   "execution_count": 52,
   "metadata": {},
   "outputs": [
    {
     "name": "stdout",
     "output_type": "stream",
     "text": [
      "I love \"python\"\n"
     ]
    }
   ],
   "source": [
    "print('I love \"python\"')"
   ]
  },
  {
   "cell_type": "code",
   "execution_count": 53,
   "metadata": {},
   "outputs": [
    {
     "name": "stdout",
     "output_type": "stream",
     "text": [
      "I love 'python'\n"
     ]
    }
   ],
   "source": [
    "print(\"I love 'python'\")"
   ]
  },
  {
   "cell_type": "code",
   "execution_count": 54,
   "metadata": {},
   "outputs": [
    {
     "name": "stdout",
     "output_type": "stream",
     "text": [
      "I love \"python\" \n"
     ]
    }
   ],
   "source": [
    "print(\"I love \\\"python\\\" \")"
   ]
  },
  {
   "cell_type": "code",
   "execution_count": 55,
   "metadata": {},
   "outputs": [
    {
     "data": {
      "text/plain": [
       "'python'"
      ]
     },
     "execution_count": 55,
     "metadata": {},
     "output_type": "execute_result"
    }
   ],
   "source": [
    "a = \"python\"\n",
    "a"
   ]
  },
  {
   "cell_type": "code",
   "execution_count": 56,
   "metadata": {},
   "outputs": [
    {
     "data": {
      "text/plain": [
       "'12'"
      ]
     },
     "execution_count": 56,
     "metadata": {},
     "output_type": "execute_result"
    }
   ],
   "source": [
    "a = '1'\n",
    "b = '2'\n",
    "a + b"
   ]
  },
  {
   "cell_type": "code",
   "execution_count": 57,
   "metadata": {},
   "outputs": [
    {
     "name": "stdout",
     "output_type": "stream",
     "text": [
      "pythonpythonpython\n"
     ]
    }
   ],
   "source": [
    "print(\"python\" * 3)"
   ]
  },
  {
   "cell_type": "code",
   "execution_count": 58,
   "metadata": {},
   "outputs": [
    {
     "data": {
      "text/plain": [
       "'pythonpythonpython'"
      ]
     },
     "execution_count": 58,
     "metadata": {},
     "output_type": "execute_result"
    }
   ],
   "source": [
    "'pythonpythonpython'"
   ]
  },
  {
   "cell_type": "code",
   "execution_count": 59,
   "metadata": {},
   "outputs": [
    {
     "name": "stdout",
     "output_type": "stream",
     "text": [
      "18\n"
     ]
    }
   ],
   "source": [
    "print(len(\"pythonpythonpython\"))"
   ]
  },
  {
   "cell_type": "code",
   "execution_count": 60,
   "metadata": {},
   "outputs": [
    {
     "data": {
      "text/plain": [
       "22"
      ]
     },
     "execution_count": 60,
     "metadata": {},
     "output_type": "execute_result"
    }
   ],
   "source": [
    "a = \"I need to study Python\"\n",
    "len(a)"
   ]
  },
  {
   "cell_type": "code",
   "execution_count": 63,
   "metadata": {},
   "outputs": [
    {
     "name": "stdout",
     "output_type": "stream",
     "text": [
      "13\n",
      "홀수\n"
     ]
    }
   ],
   "source": [
    "# Quiz\n",
    "q = \"Hello, world!\"\n",
    "print(len(q))\n",
    "if len(q) % 2 == 0:\n",
    "    print(\"짝수\")\n",
    "else:\n",
    "    print(\"홀수\")"
   ]
  },
  {
   "cell_type": "code",
   "execution_count": 65,
   "metadata": {},
   "outputs": [
    {
     "name": "stdout",
     "output_type": "stream",
     "text": [
      "I\n",
      "P\n",
      "n\n",
      "I\n"
     ]
    }
   ],
   "source": [
    "# Indexing & splicing\n",
    "a = \"I need to study Python\"\n",
    "print(a[0])\n",
    "print(a[16])\n",
    "print(a[-1])\n",
    "print(a[-22])"
   ]
  },
  {
   "cell_type": "code",
   "execution_count": 71,
   "metadata": {},
   "outputs": [
    {
     "name": "stdout",
     "output_type": "stream",
     "text": [
      "Pytho\n",
      "Python\n",
      "Pto\n",
      "nohtyP yduts ot deen I\n",
      "Python\n",
      "Python\n",
      "Pytho\n",
      "I need to\n",
      "I need to\n",
      "I need to\n",
      "I need to study Python\n"
     ]
    }
   ],
   "source": [
    "print(a[16:21])\n",
    "print(a[16:22])\n",
    "print(a[16:22:2])\n",
    "print(a[::-1])\n",
    "print(a[16:len(a)])\n",
    "print(a[16:])\n",
    "print(a[16:-1])\n",
    "print(a[0:9])\n",
    "print(a[:9])\n",
    "print(a[:-13])\n",
    "\n",
    "prefix = a[:9]\n",
    "verb = a[10:15]\n",
    "obj = a[16:]\n",
    "\n",
    "print(prefix + \" \" + verb + \" \" + obj)"
   ]
  },
  {
   "cell_type": "code",
   "execution_count": 93,
   "metadata": {},
   "outputs": [
    {
     "name": "stdout",
     "output_type": "stream",
     "text": [
      "34\n",
      "\"ATCG\" \n",
      "ATCG\"\n",
      "GCTA\n",
      "GCTA\n"
     ]
    }
   ],
   "source": [
    "# Quiz\n",
    "q = 'DNA nucleotides consist of \"ATCG\" '\n",
    "print(len(q))\n",
    "print(q[27::])\n",
    "print(q[28:-1])\n",
    "print(q[::-1][2:6])\n",
    "print(q[28:-2][::-1])"
   ]
  },
  {
   "cell_type": "code",
   "execution_count": 96,
   "metadata": {},
   "outputs": [
    {
     "ename": "TypeError",
     "evalue": "'str' object does not support item assignment",
     "output_type": "error",
     "traceback": [
      "\u001b[0;31m---------------------------------------------------------------------------\u001b[0m",
      "\u001b[0;31mTypeError\u001b[0m                                 Traceback (most recent call last)",
      "Cell \u001b[0;32mIn[96], line 1\u001b[0m\n\u001b[0;32m----> 1\u001b[0m \u001b[43ma\u001b[49m\u001b[43m[\u001b[49m\u001b[38;5;241;43m16\u001b[39;49m\u001b[43m:\u001b[49m\u001b[43m]\u001b[49m \u001b[38;5;241m=\u001b[39m \u001b[38;5;124m\"\u001b[39m\u001b[38;5;124mJava\u001b[39m\u001b[38;5;124m\"\u001b[39m\n",
      "\u001b[0;31mTypeError\u001b[0m: 'str' object does not support item assignment"
     ]
    }
   ],
   "source": [
    "a[16:] = \"Java\""
   ]
  },
  {
   "cell_type": "code",
   "execution_count": 98,
   "metadata": {},
   "outputs": [
    {
     "name": "stdout",
     "output_type": "stream",
     "text": [
      "I need to study Java\n",
      "20\n"
     ]
    }
   ],
   "source": [
    "obj = \"Java\"\n",
    "a = prefix + \" \" + verb + \" \" + obj\n",
    "print(a)\n",
    "print(len(a))"
   ]
  },
  {
   "cell_type": "code",
   "execution_count": 100,
   "metadata": {},
   "outputs": [
    {
     "name": "stdout",
     "output_type": "stream",
     "text": [
      "I need to study Python\n",
      "I need to study Java\n"
     ]
    }
   ],
   "source": [
    "for i in ['Python', 'Java']:\n",
    "    print('I need to study %s' %i)"
   ]
  },
  {
   "cell_type": "markdown",
   "metadata": {},
   "source": [
    "### Formatting\n",
    "- %s = string or anything\n",
    "- %d = integer\n",
    "- %f = floating=point\n",
    "- %% = literal '%'\n"
   ]
  },
  {
   "cell_type": "code",
   "execution_count": 102,
   "metadata": {},
   "outputs": [
    {
     "name": "stdout",
     "output_type": "stream",
     "text": [
      "I need to study Python3\n",
      "I need to study Python2\n",
      "I need to study Python2.700000\n",
      "I need to study Python2.7\n",
      "I need to study Python2.7\n"
     ]
    }
   ],
   "source": [
    "print('I need to study Python%d' %3)\n",
    "print('I need to study Python%d' %2)\n",
    "print('I need to study Python%f' %2.7)\n",
    "print('I need to study Python%s' %2.7)\n",
    "print('I need to study Python%.1f' %2.7)"
   ]
  },
  {
   "cell_type": "code",
   "execution_count": 103,
   "metadata": {},
   "outputs": [
    {
     "ename": "TypeError",
     "evalue": "not enough arguments for format string",
     "output_type": "error",
     "traceback": [
      "\u001b[0;31m---------------------------------------------------------------------------\u001b[0m",
      "\u001b[0;31mTypeError\u001b[0m                                 Traceback (most recent call last)",
      "Cell \u001b[0;32mIn[103], line 1\u001b[0m\n\u001b[0;32m----> 1\u001b[0m \u001b[38;5;28mprint\u001b[39m(\u001b[38;5;124;43m\"\u001b[39;49m\u001b[38;5;124;43mhumans share about \u001b[39;49m\u001b[38;5;132;43;01m%s\u001b[39;49;00m\u001b[38;5;132;43;01m% o\u001b[39;49;00m\u001b[38;5;124;43mf DNA with chimpanzees\u001b[39;49m\u001b[38;5;124;43m\"\u001b[39;49m\u001b[43m \u001b[49m\u001b[38;5;241;43m%\u001b[39;49m\u001b[38;5;241;43m99\u001b[39;49m)\n",
      "\u001b[0;31mTypeError\u001b[0m: not enough arguments for format string"
     ]
    }
   ],
   "source": [
    "print(\"humans share about %s% of DNA with chimpanzees\" %99)"
   ]
  },
  {
   "cell_type": "code",
   "execution_count": 104,
   "metadata": {},
   "outputs": [
    {
     "name": "stdout",
     "output_type": "stream",
     "text": [
      "humans share about 99% of DNA with chimpanzees\n"
     ]
    }
   ],
   "source": [
    "print(\"humans share about %s%% of DNA with chimpanzees\" %99)"
   ]
  },
  {
   "cell_type": "code",
   "execution_count": 105,
   "metadata": {},
   "outputs": [
    {
     "name": "stdout",
     "output_type": "stream",
     "text": [
      "I need to study Python2.7\n",
      "I need to study Python  2.7\n",
      "I need to study Python2.7\n"
     ]
    }
   ],
   "source": [
    "print('I need to study Python%.1f' %2.7)\n",
    "print('I need to study Python%5.1f' %2.7)\n",
    "print('I need to study Python%2.1f' %2.7)"
   ]
  },
  {
   "cell_type": "code",
   "execution_count": 106,
   "metadata": {},
   "outputs": [
    {
     "name": "stdout",
     "output_type": "stream",
     "text": [
      "I need to study Python2.7\n",
      "I need to study Python2.7\n"
     ]
    }
   ],
   "source": [
    "lang = \"Python\"\n",
    "ver=\"2.7\"\n",
    "print(\"I need to study \" + lang + ver)\n",
    "print(\"I need to study %s%s\"  %(lang , ver))"
   ]
  },
  {
   "cell_type": "code",
   "execution_count": 136,
   "metadata": {},
   "outputs": [
    {
     "name": "stdout",
     "output_type": "stream",
     "text": [
      "The ratio of a circle’s circumference to its diameter is called pi, and the value of pi is 3.14\n"
     ]
    }
   ],
   "source": [
    "# Quiz\n",
    "\"\"\" \n",
    "%s, %f, math.pi를 이용하여 아래와 같은 문구가 나오도록 명렬어를 작성해보시오.\n",
    "\"\"\"\n",
    "\n",
    "print(\"The ratio of a circle’s circumference to its diameter is called %s, and the value of %s is %.2f\" % ('pi', 'pi', math.pi))\n"
   ]
  },
  {
   "cell_type": "code",
   "execution_count": null,
   "metadata": {},
   "outputs": [],
   "source": []
  }
 ],
 "metadata": {
  "kernelspec": {
   "display_name": "myenv",
   "language": "python",
   "name": "python3"
  },
  "language_info": {
   "codemirror_mode": {
    "name": "ipython",
    "version": 3
   },
   "file_extension": ".py",
   "mimetype": "text/x-python",
   "name": "python",
   "nbconvert_exporter": "python",
   "pygments_lexer": "ipython3",
   "version": "3.8.20"
  }
 },
 "nbformat": 4,
 "nbformat_minor": 2
}
