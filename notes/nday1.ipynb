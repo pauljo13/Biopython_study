{
 "cells": [
  {
   "cell_type": "markdown",
   "metadata": {},
   "source": [
    "# Introduction to Python\n",
    "Python : created by in the early 1990s Guido van Rossum in Amsterdam.\n",
    "    \"A high-level scripting language that allows for interactivity\"\n",
    "\n",
    "Python is an interpreted language that can be run both in script of in interactive mode.\n",
    "\n",
    "### Features od Python\n",
    "- Concise an clear syntax\n",
    "- Code indentation\n",
    "- Set of high-level and powerful data types\n",
    "- Simple, but effective, approach to object-oriented programming\n",
    "- Modularity\n"
   ]
  },
  {
   "cell_type": "markdown",
   "metadata": {},
   "source": [
    "##"
   ]
  },
  {
   "cell_type": "markdown",
   "metadata": {},
   "source": [
    "### Data types in Python\n",
    "| Data type   | Complexity | Order | Mutable | Indexed | Heterogeneous |\n",
    "|-------------|------------|-------|---------|---------|---------------|\n",
    "| int         | primitive  | -     | yes     | -       | -             |\n",
    "| float       | primitive  | -     | yes     | -       | -             |\n",
    "| complex     | primitive  | -     | yes     | -       | -             |\n",
    "| Boolean     | primitive  | -     | yes     | -       | -             |\n",
    "| string      | container  | yes   | no      | yes     | no            |\n",
    "| list        | container  | yes   | yes     | yes     | yes           |\n",
    "| tuple       | container  | yes   | no      | yes     | yes           |\n",
    "| set         | container  | no    | yes     | no      | yes           |\n",
    "| dictionary  | container  | no    | yes     | no      | yes           |\n"
   ]
  },
  {
   "cell_type": "code",
   "execution_count": 7,
   "metadata": {},
   "outputs": [
    {
     "name": "stdout",
     "output_type": "stream",
     "text": [
      "3\n",
      "-2\n",
      "12\n",
      "1.3333333333333333\n",
      "16\n",
      "1\n",
      "2\n"
     ]
    }
   ],
   "source": [
    "# Types of operators\n",
    "# sum\n",
    "print(1 + 2)\n",
    "\n",
    "# difference\n",
    "print(2 - 4)\n",
    "\n",
    "# multiplication\n",
    "print(3 * 4)\n",
    "\n",
    "# division\n",
    "print(4 / 3)\n",
    "\n",
    "# exponentiation\n",
    "print(2 ** 4)\n",
    "\n",
    "# integer division\n",
    "print(4 // 3)\n",
    "\n",
    "# remainder of the integer division\n",
    "print(5 % 3)"
   ]
  },
  {
   "cell_type": "markdown",
   "metadata": {},
   "source": [
    "### Mathematical and Character Functions\n",
    "\n",
    "- **abs(x)**: absolute value of `x`\n",
    "- **round(x, n)**: `x` rounded to a precision of `n` places\n",
    "- **pow(x, y)**: `x` raised to power of `y`\n",
    "- **ord(c)**: ASCII numerical code for character `c`\n",
    "- **chr(x)**: ASCII string (with a single character) for numerical code `x`\n"
   ]
  },
  {
   "cell_type": "code",
   "execution_count": 11,
   "metadata": {},
   "outputs": [
    {
     "name": "stdout",
     "output_type": "stream",
     "text": [
      "abs(-3) : 3\n",
      "round(3.4) : 3\n",
      "round(3.6) : 4\n",
      "pow(2, 4) : 16\n",
      "int(3.4) : 3\n",
      "float(3) : 3.0\n"
     ]
    }
   ],
   "source": [
    "# Mathematical functions\n",
    "\n",
    "print(\"abs(-3) :\", abs(-3))\n",
    "print(\"round(3.4) :\", round(3.4))\n",
    "print(\"round(3.6) :\", round(3.6))\n",
    "print(\"pow(2, 4) :\", pow(2, 4))\n",
    "print(\"int(3.4) :\", int(3.4))\n",
    "print(\"float(3) :\", float(3))"
   ]
  },
  {
   "cell_type": "code",
   "execution_count": 12,
   "metadata": {},
   "outputs": [],
   "source": [
    "# Module math\n",
    "import math"
   ]
  },
  {
   "cell_type": "code",
   "execution_count": 13,
   "metadata": {},
   "outputs": [
    {
     "data": {
      "text/plain": [
       "4.0"
      ]
     },
     "execution_count": 13,
     "metadata": {},
     "output_type": "execute_result"
    }
   ],
   "source": [
    "math.sqrt(16)"
   ]
  },
  {
   "cell_type": "code",
   "execution_count": 14,
   "metadata": {},
   "outputs": [
    {
     "data": {
      "text/plain": [
       "2.302585092994046"
      ]
     },
     "execution_count": 14,
     "metadata": {},
     "output_type": "execute_result"
    }
   ],
   "source": [
    "math.log(10)"
   ]
  },
  {
   "cell_type": "code",
   "execution_count": 15,
   "metadata": {},
   "outputs": [
    {
     "data": {
      "text/plain": [
       "1.0"
      ]
     },
     "execution_count": 15,
     "metadata": {},
     "output_type": "execute_result"
    }
   ],
   "source": [
    "math.log10(10)"
   ]
  },
  {
   "cell_type": "code",
   "execution_count": 16,
   "metadata": {},
   "outputs": [
    {
     "data": {
      "text/plain": [
       "3.321928094887362"
      ]
     },
     "execution_count": 16,
     "metadata": {},
     "output_type": "execute_result"
    }
   ],
   "source": [
    "math.log2(10)"
   ]
  },
  {
   "cell_type": "code",
   "execution_count": 22,
   "metadata": {},
   "outputs": [
    {
     "name": "stdout",
     "output_type": "stream",
     "text": [
      "2.0 \n",
      " 1.0\n"
     ]
    }
   ],
   "source": [
    "# Quiz\n",
    "print(math.log2(128) // 3,\"\\n\",math.log2(128) % 3)"
   ]
  },
  {
   "cell_type": "markdown",
   "metadata": {},
   "source": [
    "### Assigning values to variables\n",
    "Operator \"=\" is used to assign a value to a variable name."
   ]
  },
  {
   "cell_type": "code",
   "execution_count": 23,
   "metadata": {},
   "outputs": [
    {
     "name": "stdout",
     "output_type": "stream",
     "text": [
      "3\n"
     ]
    }
   ],
   "source": [
    "a = 1\n",
    "b = 2\n",
    "print(a + b)"
   ]
  },
  {
   "cell_type": "code",
   "execution_count": 24,
   "metadata": {},
   "outputs": [
    {
     "name": "stdout",
     "output_type": "stream",
     "text": [
      "1.0\n"
     ]
    }
   ],
   "source": [
    "a = math.log2(16)\n",
    "b = round(3.6)\n",
    "print(a / b)"
   ]
  },
  {
   "cell_type": "code",
   "execution_count": 26,
   "metadata": {},
   "outputs": [
    {
     "name": "stdout",
     "output_type": "stream",
     "text": [
      "a :  <class 'int'>\n",
      "b :  <class 'float'>\n"
     ]
    }
   ],
   "source": [
    "a = 3\n",
    "b = float(a)\n",
    "print(\"a : \", type(a))\n",
    "print(\"b : \", type(b))"
   ]
  },
  {
   "cell_type": "code",
   "execution_count": 31,
   "metadata": {},
   "outputs": [
    {
     "name": "stdout",
     "output_type": "stream",
     "text": [
      "2\n",
      "2\n",
      "2\n",
      "3\n",
      "3\n",
      "3\n",
      "1\n",
      "2\n",
      "3\n"
     ]
    }
   ],
   "source": [
    "a = 2\n",
    "b = 2\n",
    "c = 2\n",
    "li = [a, b, c]\n",
    "for i in li:\n",
    "    print(i)\n",
    "\n",
    "a = b = c = 3\n",
    "li = [a, b, c]\n",
    "for i in li:\n",
    "    print(i)\n",
    "    \n",
    "a, b, c = 1, 2, 3\n",
    "li = [a, b, c]\n",
    "for i in li:\n",
    "    print(i)"
   ]
  },
  {
   "cell_type": "code",
   "execution_count": 33,
   "metadata": {},
   "outputs": [
    {
     "name": "stdout",
     "output_type": "stream",
     "text": [
      "a : 7.0 / b : 8.0\n",
      "c : 56.0\n"
     ]
    }
   ],
   "source": [
    "# Quiz\n",
    "a, b = math.log2(128), math.log2(256)\n",
    "print(\"a :\", a, \"/ b :\", b)\n",
    "c = a * b\n",
    "print(\"c :\", c)"
   ]
  },
  {
   "cell_type": "code",
   "execution_count": null,
   "metadata": {},
   "outputs": [],
   "source": []
  }
 ],
 "metadata": {
  "kernelspec": {
   "display_name": "myenv",
   "language": "python",
   "name": "python3"
  },
  "language_info": {
   "codemirror_mode": {
    "name": "ipython",
    "version": 3
   },
   "file_extension": ".py",
   "mimetype": "text/x-python",
   "name": "python",
   "nbconvert_exporter": "python",
   "pygments_lexer": "ipython3",
   "version": "3.8.20"
  }
 },
 "nbformat": 4,
 "nbformat_minor": 2
}
