{
 "cells": [
  {
   "cell_type": "markdown",
   "metadata": {},
   "source": [
    "# Introduction to Python part 2\n",
    "### Another way for string formatting: f-string\n"
   ]
  },
  {
   "cell_type": "code",
   "execution_count": 1,
   "metadata": {},
   "outputs": [
    {
     "name": "stdout",
     "output_type": "stream",
     "text": [
      "Hi, Python\n"
     ]
    }
   ],
   "source": [
    "a = \"Python\"\n",
    "print(f\"Hi, {a}\")"
   ]
  },
  {
   "cell_type": "code",
   "execution_count": 2,
   "metadata": {},
   "outputs": [
    {
     "name": "stdout",
     "output_type": "stream",
     "text": [
      "I need to study Python2.7\n",
      "I need to study Python2.70\n",
      "I need to study Python3.7\n",
      "I need to study Python3.7\n"
     ]
    }
   ],
   "source": [
    "a = 'I need to study Python'\n",
    "lang = \"Python\"\n",
    "ver = 2.7\n",
    "\n",
    "print(f\"I need to study {lang}{ver}\")\n",
    "print(f\"I need to study {lang}{ver:.2f}\")\n",
    "print(f\"I need to study {lang}{ver+1}\")\n",
    "print(f\"I need to study {a[16:]}{ver+1}\")"
   ]
  },
  {
   "cell_type": "code",
   "execution_count": 5,
   "metadata": {},
   "outputs": [
    {
     "name": "stdout",
     "output_type": "stream",
     "text": [
      "The ratio of a circle's circumference to its diameter is called pi, and the value of pi is 3.14\n"
     ]
    }
   ],
   "source": [
    "# Quiz\n",
    "import math\n",
    "p = \"pi\"\n",
    "pi = math.pi\n",
    "print(f\"The ratio of a circle's circumference to its diameter is called {p}, and the value of {p} is {pi:.2f}\")"
   ]
  },
  {
   "cell_type": "markdown",
   "metadata": {},
   "source": [
    "### Useful functions for string\n",
    "count - stringname.count(substring, start, end)"
   ]
  },
  {
   "cell_type": "code",
   "execution_count": 6,
   "metadata": {},
   "outputs": [
    {
     "name": "stdout",
     "output_type": "stream",
     "text": [
      "How many white-spaces in this sentence?\n",
      "5\n",
      "2\n"
     ]
    }
   ],
   "source": [
    "a = \"How many white-spaces in this sentence?\"\n",
    "print(a)\n",
    "print(a.count(' '))\n",
    "print(a.count('h'))"
   ]
  },
  {
   "cell_type": "code",
   "execution_count": 8,
   "metadata": {},
   "outputs": [
    {
     "name": "stdout",
     "output_type": "stream",
     "text": [
      "ATCGATCGAAAA\n",
      "2\n",
      "1\n",
      "8\n",
      "-1\n",
      "1\n"
     ]
    },
    {
     "ename": "ValueError",
     "evalue": "substring not found",
     "output_type": "error",
     "traceback": [
      "\u001b[0;31m---------------------------------------------------------------------------\u001b[0m",
      "\u001b[0;31mValueError\u001b[0m                                Traceback (most recent call last)",
      "Cell \u001b[0;32mIn[8], line 9\u001b[0m\n\u001b[1;32m      7\u001b[0m \u001b[38;5;28mprint\u001b[39m(seq\u001b[38;5;241m.\u001b[39mfind(\u001b[38;5;124m'\u001b[39m\u001b[38;5;124mN\u001b[39m\u001b[38;5;124m'\u001b[39m))\n\u001b[1;32m      8\u001b[0m \u001b[38;5;28mprint\u001b[39m(seq\u001b[38;5;241m.\u001b[39mindex(\u001b[38;5;124m'\u001b[39m\u001b[38;5;124mT\u001b[39m\u001b[38;5;124m'\u001b[39m))\n\u001b[0;32m----> 9\u001b[0m \u001b[38;5;28mprint\u001b[39m(\u001b[43mseq\u001b[49m\u001b[38;5;241;43m.\u001b[39;49m\u001b[43mindex\u001b[49m\u001b[43m(\u001b[49m\u001b[38;5;124;43m'\u001b[39;49m\u001b[38;5;124;43mN\u001b[39;49m\u001b[38;5;124;43m'\u001b[39;49m\u001b[43m)\u001b[49m)\n",
      "\u001b[0;31mValueError\u001b[0m: substring not found"
     ]
    }
   ],
   "source": [
    "# (r)find & (r)index - stringname.find(substring, start, end)\n",
    "seq = \"ATCGATCGAAAA\"\n",
    "print(seq)\n",
    "print(seq.count('T'))\n",
    "print(seq.find('T'))\n",
    "print(seq.find('AAA'))\n",
    "print(seq.find('N'))\n",
    "print(seq.index('T'))\n",
    "print(seq.index('N'))"
   ]
  },
  {
   "cell_type": "code",
   "execution_count": 12,
   "metadata": {},
   "outputs": [
    {
     "name": "stdout",
     "output_type": "stream",
     "text": [
      "A : 8 / 18\n",
      "== 0.44\n",
      "T : 6 / 18\n",
      "== 0.33\n",
      "C : 3 / 18\n",
      "== 0.17\n",
      "G : 1 / 18\n",
      "== 0.06\n"
     ]
    }
   ],
   "source": [
    "# Quiz\n",
    "a = \"AATCAAAACCGAATTTTT\"\n",
    "for i in [\"A\", \"T\", \"C\", \"G\"]:\n",
    "    print(f\"{i} : {a.count(i)} / {len(a)}\")\n",
    "    print(f\"== {a.count(i)/len(a):.2f}\")"
   ]
  },
  {
   "cell_type": "code",
   "execution_count": 14,
   "metadata": {},
   "outputs": [
    {
     "name": "stdout",
     "output_type": "stream",
     "text": [
      "ATCGATCGAAAA\n",
      "A\tT\tC\tG\tA\tT\tC\tG\tA\tA\tA\tA\n",
      "A T C G A T C G A A A A\n",
      "A\n",
      "T\n",
      "C\n",
      "G\n",
      "A\n",
      "T\n",
      "C\n",
      "G\n",
      "A\n",
      "A\n",
      "A\n",
      "A\n"
     ]
    }
   ],
   "source": [
    "# Useful functions for string\n",
    "## join - \"character to be joined\".join(stringname)\n",
    "\n",
    "print(seq)\n",
    "print('\\t'.join(seq)) #\\t : 탭\n",
    "print(' '.join(seq))\n",
    "print('\\n'.join(seq)) #\\ㅜ : 줄바꿈"
   ]
  },
  {
   "cell_type": "code",
   "execution_count": 17,
   "metadata": {},
   "outputs": [
    {
     "name": "stdout",
     "output_type": "stream",
     "text": [
      "   ATCG   \n",
      "ATCG\n",
      "ATCG   \n",
      "   ATCG\n",
      "!!!ATCG!!!\n",
      "ATCG\n"
     ]
    }
   ],
   "source": [
    "## strip = stringname.(lr)strip('character be stripped')\n",
    "a = f'{\"ATCG\":^10}'\n",
    "print(a)\n",
    "print(a.strip())\n",
    "print(a.lstrip())\n",
    "print(a.rstrip())\n",
    "a = f'{\"ATCG\":!^10}'\n",
    "print(a)\n",
    "print(a.strip(\"!\"))"
   ]
  },
  {
   "cell_type": "code",
   "execution_count": 18,
   "metadata": {},
   "outputs": [
    {
     "name": "stdout",
     "output_type": "stream",
     "text": [
      "!!!ATCG!!!\n",
      "???ATCG???\n",
      "!!!ATCG!!!\n"
     ]
    }
   ],
   "source": [
    "## replace = stringname.replace(old text, new text, count)\n",
    "print(a)\n",
    "print(a.replace('!', '?'))\n",
    "print(a)\n",
    "a2 = a.replace('!', '?')"
   ]
  },
  {
   "cell_type": "code",
   "execution_count": 19,
   "metadata": {},
   "outputs": [
    {
     "name": "stdout",
     "output_type": "stream",
     "text": [
      "ATCGATCG\n",
      "ATcGATcG\n"
     ]
    }
   ],
   "source": [
    "# Quiz\n",
    "seq = \"ATCGATCG\\n\"\n",
    "seq = seq.strip(\"\\n\")\n",
    "print(seq)\n",
    "seq2 = seq.replace(\"C\", \"c\")\n",
    "print(seq2)"
   ]
  },
  {
   "cell_type": "code",
   "execution_count": 21,
   "metadata": {},
   "outputs": [
    {
     "name": "stdout",
     "output_type": "stream",
     "text": [
      "A\tT\tC\tG\tA\tT\tC\tG\tA\tA\tA\tA\n",
      "['A', 'T', 'C', 'G', 'A', 'T', 'C', 'G', 'A', 'A', 'A', 'A']\n"
     ]
    }
   ],
   "source": [
    "# Useful functions for string\n",
    "## split : stringname.split(separator, max)\n",
    "a = 'A\\tT\\tC\\tG\\tA\\tT\\tC\\tG\\tA\\tA\\tA\\tA'\n",
    "print(a)\n",
    "print(a.split('\\t'))"
   ]
  },
  {
   "cell_type": "code",
   "execution_count": 23,
   "metadata": {},
   "outputs": [
    {
     "name": "stdout",
     "output_type": "stream",
     "text": [
      "A,T,C,G\n",
      "['A', 'T', 'C', 'G']\n"
     ]
    }
   ],
   "source": [
    "# Quiz\n",
    "a = \",\".join('ATCG')\n",
    "print(a)\n",
    "print(a.split(','))"
   ]
  },
  {
   "cell_type": "markdown",
   "metadata": {},
   "source": [
    "# List\n",
    "Lists allow the storage and processing of sequences of values of different types.\n",
    "They can be defined by square brackets enclosing a sequence of comma-separated values."
   ]
  },
  {
   "cell_type": "code",
   "execution_count": 25,
   "metadata": {},
   "outputs": [
    {
     "name": "stdout",
     "output_type": "stream",
     "text": [
      "[]\n",
      "<class 'list'>\n",
      "[1, 2, 3]\n",
      "['a', 'b', 'c']\n",
      "['a', 'b', 1, 2]\n",
      "['a', 'b', [1, 2]]\n",
      "[1, 2, 'a', 'b']\n",
      "[1, 2, 'a', 'b', ['a']]\n",
      "[1, 2, 'a', 'b', ['a'], ['a']]\n"
     ]
    }
   ],
   "source": [
    "print([])\n",
    "print(type([]))\n",
    "print([1,2,3])\n",
    "print([\"a\", \"b\", \"c\"])\n",
    "print([\"a\", \"b\",1, 2])\n",
    "print([\"a\", \"b\",[1, 2]])\n",
    "print([1, 2] + [\"a\", \"b\"])\n",
    "print([1, 2] + [\"a\", \"b\"] + [[\"a\"]])\n",
    "print([1, 2] + [\"a\", \"b\"] + [[\"a\"]]*2)"
   ]
  },
  {
   "cell_type": "code",
   "execution_count": 26,
   "metadata": {},
   "outputs": [
    {
     "name": "stdout",
     "output_type": "stream",
     "text": [
      "2\n",
      "4\n",
      "5\n",
      "6\n"
     ]
    }
   ],
   "source": [
    "print(len([1,2]))\n",
    "print(len([1, 2] + [\"a\", \"b\"]))\n",
    "print(len([1, 2] + [\"a\", \"b\"] + [[\"a\"]]))\n",
    "print(len([1, 2] + [\"a\", \"b\"] + [[\"a\"]]*2))"
   ]
  },
  {
   "cell_type": "code",
   "execution_count": null,
   "metadata": {},
   "outputs": [
    {
     "name": "stdout",
     "output_type": "stream",
     "text": [
      "['I', 'need', 'to', 'study', 'Python']\n",
      "I\n",
      "Python\n",
      "IPython\n",
      "Pyth\n"
     ]
    },
    {
     "ename": "TypeError",
     "evalue": "list indices must be integers or slices, not tuple",
     "output_type": "error",
     "traceback": [
      "\u001b[0;31m---------------------------------------------------------------------------\u001b[0m",
      "\u001b[0;31mTypeError\u001b[0m                                 Traceback (most recent call last)",
      "Cell \u001b[0;32mIn[29], line 7\u001b[0m\n\u001b[1;32m      5\u001b[0m \u001b[38;5;28mprint\u001b[39m(a[\u001b[38;5;241m0\u001b[39m] \u001b[38;5;241m+\u001b[39m a[\u001b[38;5;241m4\u001b[39m])\n\u001b[1;32m      6\u001b[0m \u001b[38;5;28mprint\u001b[39m(a[\u001b[38;5;241m4\u001b[39m][:\u001b[38;5;241m4\u001b[39m])\n\u001b[0;32m----> 7\u001b[0m \u001b[38;5;28mprint\u001b[39m(\u001b[43ma\u001b[49m\u001b[43m[\u001b[49m\u001b[38;5;241;43m0\u001b[39;49m\u001b[43m,\u001b[49m\u001b[43m \u001b[49m\u001b[38;5;241;43m4\u001b[39;49m\u001b[43m]\u001b[49m)\n",
      "\u001b[0;31mTypeError\u001b[0m: list indices must be integers or slices, not tuple"
     ]
    }
   ],
   "source": [
    "# Indexing & splicing in list\n",
    "a = \"I need to study Python\".split()\n",
    "print(a)\n",
    "print(a[0])\n",
    "print(a[4])\n",
    "print(a[0] + a[4])\n",
    "print(a[4][:4])\n",
    "print(a[0, 4])"
   ]
  },
  {
   "cell_type": "code",
   "execution_count": 30,
   "metadata": {},
   "outputs": [
    {
     "name": "stdout",
     "output_type": "stream",
     "text": [
      "['I', 'need', 'to', 'study', 'Python']\n",
      "['study', 'Python']\n",
      "['I', 'need', 'to']\n",
      "['Python']\n",
      "['Python', 'study', 'to', 'need', 'I']\n"
     ]
    }
   ],
   "source": [
    "print(a[:])\n",
    "print(a[3:5])\n",
    "print(a[:3])\n",
    "print(a[4:])\n",
    "print(a[::-1])"
   ]
  },
  {
   "cell_type": "code",
   "execution_count": 31,
   "metadata": {},
   "outputs": [
    {
     "name": "stdout",
     "output_type": "stream",
     "text": [
      "['I', 'need', 'to', 'study', 'Python']\n",
      "Python\n",
      "Java\n",
      "['I', 'need', 'to', 'study', 'Java']\n"
     ]
    }
   ],
   "source": [
    "print(a)\n",
    "print(a[4])\n",
    "a[4] = \"Java\"\n",
    "print(a[4])\n",
    "print(a)"
   ]
  },
  {
   "cell_type": "code",
   "execution_count": 32,
   "metadata": {},
   "outputs": [
    {
     "name": "stdout",
     "output_type": "stream",
     "text": [
      "['I', 'need', 'to', 'study']\n"
     ]
    }
   ],
   "source": [
    "del a[4]\n",
    "print(a)"
   ]
  },
  {
   "cell_type": "code",
   "execution_count": 33,
   "metadata": {},
   "outputs": [
    {
     "name": "stdout",
     "output_type": "stream",
     "text": [
      "['I', 'need', 'to', 'study', 'Python', [2.7, 3.7]]\n"
     ]
    }
   ],
   "source": [
    "a += ['Python', [2.7, 3.7]]\n",
    "print(a)"
   ]
  },
  {
   "cell_type": "code",
   "execution_count": 35,
   "metadata": {},
   "outputs": [
    {
     "name": "stdout",
     "output_type": "stream",
     "text": [
      "[2.7, 3.7]\n",
      "2.7\n",
      "[2.7]\n",
      "<class 'float'>\n",
      "2.7\n",
      "7\n"
     ]
    }
   ],
   "source": [
    "print(a[5])\n",
    "print(a[5][0])\n",
    "print(a[5][:1])\n",
    "print(type(a[5][0]))\n",
    "print(str(a[5][0]))\n",
    "print(str(a[5][0])[2])"
   ]
  },
  {
   "cell_type": "code",
   "execution_count": 36,
   "metadata": {},
   "outputs": [
    {
     "name": "stdout",
     "output_type": "stream",
     "text": [
      "6\n",
      "5\n",
      "7\n",
      "[4, 5]\n"
     ]
    }
   ],
   "source": [
    "# Quiz\n",
    "a = [1, 2, [3, 4, 5], 6, ['7', '8']]\n",
    "print(a[3])\n",
    "print(a[2][2])\n",
    "print(a[4][0])\n",
    "print(a[2][1:])"
   ]
  },
  {
   "cell_type": "code",
   "execution_count": 37,
   "metadata": {},
   "outputs": [
    {
     "name": "stdout",
     "output_type": "stream",
     "text": [
      "['A', 'T', 'C', 'G']\n",
      "A:T:C:G\n",
      "A\n",
      "T\n",
      "C\n",
      "G\n"
     ]
    }
   ],
   "source": [
    "# Useful functions in list\n",
    "## Join - \"character to be joined\".join(list)\n",
    "a = ['A', 'T', 'C', 'G']\n",
    "print(a)\n",
    "print(\":\".join(a))\n",
    "print(\"\\n\".join(a))"
   ]
  },
  {
   "cell_type": "code",
   "execution_count": 56,
   "metadata": {},
   "outputs": [
    {
     "name": "stdout",
     "output_type": "stream",
     "text": [
      "[1, 2, 2, 3, 3, 3, 4, 4, 4, 4]\n",
      "1\n",
      "4\n"
     ]
    }
   ],
   "source": [
    "## Count - list.count(element)\n",
    "a = []\n",
    "for i in range(1, 5):\n",
    "    for j in range(i):\n",
    "        a.append(i)\n",
    "print(a)\n",
    "print(a.count(1))\n",
    "print(a.count(4))"
   ]
  },
  {
   "cell_type": "code",
   "execution_count": 58,
   "metadata": {},
   "outputs": [
    {
     "name": "stdout",
     "output_type": "stream",
     "text": [
      "['A', 'T', 'C', 'G']\n",
      "['A', 'T', 'C', 'G', 'N']\n",
      "['A', 'T', 'C', 'G', 'N', ['A', 'T', 'C', 'G']]\n"
     ]
    },
    {
     "ename": "TypeError",
     "evalue": "append() takes exactly one argument (2 given)",
     "output_type": "error",
     "traceback": [
      "\u001b[0;31m---------------------------------------------------------------------------\u001b[0m",
      "\u001b[0;31mTypeError\u001b[0m                                 Traceback (most recent call last)",
      "Cell \u001b[0;32mIn[58], line 8\u001b[0m\n\u001b[1;32m      6\u001b[0m a\u001b[38;5;241m.\u001b[39mappend(\u001b[38;5;124m\"\u001b[39m\u001b[38;5;124mA T C G\u001b[39m\u001b[38;5;124m\"\u001b[39m\u001b[38;5;241m.\u001b[39msplit(\u001b[38;5;124m\"\u001b[39m\u001b[38;5;124m \u001b[39m\u001b[38;5;124m\"\u001b[39m))\n\u001b[1;32m      7\u001b[0m \u001b[38;5;28mprint\u001b[39m(a)\n\u001b[0;32m----> 8\u001b[0m \u001b[43ma\u001b[49m\u001b[38;5;241;43m.\u001b[39;49m\u001b[43mappend\u001b[49m\u001b[43m(\u001b[49m\u001b[38;5;124;43m\"\u001b[39;49m\u001b[38;5;124;43mA\u001b[39;49m\u001b[38;5;124;43m\"\u001b[39;49m\u001b[43m,\u001b[49m\u001b[43m \u001b[49m\u001b[38;5;124;43m\"\u001b[39;49m\u001b[38;5;124;43mT\u001b[39;49m\u001b[38;5;124;43m\"\u001b[39;49m\u001b[43m)\u001b[49m\n\u001b[1;32m      9\u001b[0m \u001b[38;5;28mprint\u001b[39m(a)\n",
      "\u001b[0;31mTypeError\u001b[0m: append() takes exactly one argument (2 given)"
     ]
    }
   ],
   "source": [
    "## Append - list.append(item\n",
    "a = \"A T C G\".split(\" \")\n",
    "print(a)\n",
    "a.append(\"N\")\n",
    "print(a)\n",
    "a.append(\"A T C G\".split(\" \"))\n",
    "print(a)\n",
    "a.append(\"A\", \"T\")\n",
    "print(a)"
   ]
  },
  {
   "cell_type": "code",
   "execution_count": 60,
   "metadata": {},
   "outputs": [
    {
     "name": "stdout",
     "output_type": "stream",
     "text": [
      "['A', 'T', 'C', 'G']\n",
      "['A', 'T', 'C', 'G', ['N']]\n",
      "['A', 'T', 'C', 'G', ['N'], 'N']\n"
     ]
    }
   ],
   "source": [
    "## Extend - list.extend(iterable)\n",
    "a = \"A T C G\".split(\" \")\n",
    "print(a)\n",
    "a.append([\"N\"])\n",
    "print(a)\n",
    "a.extend([\"N\"])\n",
    "print(a)"
   ]
  },
  {
   "cell_type": "code",
   "execution_count": null,
   "metadata": {},
   "outputs": [],
   "source": []
  }
 ],
 "metadata": {
  "kernelspec": {
   "display_name": "myenv",
   "language": "python",
   "name": "python3"
  },
  "language_info": {
   "codemirror_mode": {
    "name": "ipython",
    "version": 3
   },
   "file_extension": ".py",
   "mimetype": "text/x-python",
   "name": "python",
   "nbconvert_exporter": "python",
   "pygments_lexer": "ipython3",
   "version": "3.8.20"
  }
 },
 "nbformat": 4,
 "nbformat_minor": 2
}
